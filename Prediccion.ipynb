{
 "cells": [
  {
   "cell_type": "code",
   "execution_count": 1,
   "metadata": {},
   "outputs": [],
   "source": [
    "import numpy as np\n",
    "import pandas as pd\n",
    "import warnings\n",
    "warnings.filterwarnings('ignore')"
   ]
  },
  {
   "cell_type": "code",
   "execution_count": 2,
   "metadata": {},
   "outputs": [],
   "source": [
    "from sklearn import preprocessing\n",
    "from sklearn.model_selection import train_test_split\n",
    "from sklearn.preprocessing import StandardScaler\n",
    "from sklearn.metrics import mean_absolute_error"
   ]
  },
  {
   "cell_type": "code",
   "execution_count": 3,
   "metadata": {},
   "outputs": [],
   "source": [
    "from sklearn.linear_model import LinearRegression\n",
    "from sklearn.neighbors import KNeighborsRegressor\n",
    "from sklearn.svm import SVR\n",
    "from sklearn.linear_model import Lasso\n",
    "from sklearn.linear_model import Ridge\n",
    "from sklearn.neural_network import MLPRegressor\n",
    "from sklearn.tree import DecisionTreeRegressor\n",
    "from sklearn.tree import ExtraTreeRegressor\n",
    "from xgboost import XGBRegressor\n",
    "from sklearn.ensemble import RandomForestRegressor\n",
    "from sklearn.ensemble import AdaBoostRegressor\n",
    "from sklearn.ensemble import GradientBoostingRegressor\n",
    "from sklearn.ensemble import BaggingRegressor"
   ]
  },
  {
   "cell_type": "code",
   "execution_count": 4,
   "metadata": {},
   "outputs": [],
   "source": [
    "def leer_csv(ruta):\n",
    "    return pd.read_csv(ruta)"
   ]
  },
  {
   "cell_type": "code",
   "execution_count": 5,
   "metadata": {},
   "outputs": [],
   "source": [
    "TEST_SIZE = 0.25\n",
    "RANDOM_STATE = 42\n",
    "\n",
    "def separar_train_test(df_train, logaritmico):\n",
    "    X = df_train.copy().drop(columns = ['precio', 'log_precio'])\n",
    "    if logaritmico:\n",
    "        y = df_train['log_precio']\n",
    "    else:\n",
    "        y = df_train['precio']\n",
    "    return train_test_split(X, y, test_size = TEST_SIZE, random_state = RANDOM_STATE)\n",
    "    "
   ]
  },
  {
   "cell_type": "code",
   "execution_count": 10,
   "metadata": {},
   "outputs": [],
   "source": [
    "RUTA_TRAIN = 'data/train_preproc.csv'\n",
    "RUTA_TEST = 'data/test_preproc.csv'\n",
    "\n",
    "def predecir(modelos, nombres_modelos, logaritmico):\n",
    "\n",
    "    df_train = leer_csv(RUTA_TRAIN)\n",
    "    df_test = leer_csv(RUTA_TEST)\n",
    "\n",
    "    to_predict = df_test.copy()\n",
    "\n",
    "    X_train, X_test, Y_train, Y_test = separar_train_test(df_train, logaritmico)\n",
    "    \n",
    "    resultado = []\n",
    "    \n",
    "    for nombre,modelo in zip(nombres_modelos, modelos):\n",
    "        print('------------------------------------------------')\n",
    "        print('Comienza a entrenar: '+ nombre)\n",
    "        print()\n",
    "        \n",
    "        modelo = modelo   \n",
    "        modelo.fit(X_train, Y_train)\n",
    "        prediccion = modelo.predict(X_test)\n",
    "        \n",
    "        if logaritmico:\n",
    "            score = mean_absolute_error(np.exp(prediccion), np.exp(Y_test))\n",
    "        else:\n",
    "            score = mean_absolute_error(prediccion, Y_test)\n",
    "            \n",
    "        resultado.append((str(nombre), str(score)))\n",
    "\n",
    "        print('**FINALIZADO** ' + nombre + ' Score: ' + str(score))\n",
    "        print()\n",
    "    return resultado\n",
    "\n"
   ]
  },
  {
   "cell_type": "code",
   "execution_count": 13,
   "metadata": {},
   "outputs": [
    {
     "name": "stdout",
     "output_type": "stream",
     "text": [
      "------------------------------------------------\n",
      "Comienza a entrenar: RandomForestRegressor\n",
      "\n",
      "**FINALIZADO** RandomForestRegressor Score: 573173.0531633393\n",
      "\n",
      "------------------------------------------------\n",
      "Comienza a entrenar: XGBoost\n",
      "\n",
      "[18:26:51] WARNING: /workspace/src/objective/regression_obj.cu:152: reg:linear is now deprecated in favor of reg:squarederror.\n",
      "**FINALIZADO** XGBoost Score: 674079.7111432704\n",
      "\n",
      "------------------------------------------------\n",
      "Comienza a entrenar: Bagging\n",
      "\n",
      "**FINALIZADO** Bagging Score: 607716.6846137382\n",
      "\n"
     ]
    }
   ],
   "source": [
    "CON_PRECIO_LOGARITMICO = True\n",
    "\n",
    "MODELOS = [RandomForestRegressor(n_estimators = 200, max_depth = 500, n_jobs = -1), XGBRegressor(), BaggingRegressor()]\n",
    "NOMBRES_MODELOS = ['RandomForestRegressor', 'XGBoost', 'Bagging']\n",
    "\n",
    "resultado = predecir(MODELOS, NOMBRES_MODELOS, CON_PRECIO_LOGARITMICO)"
   ]
  },
  {
   "cell_type": "code",
   "execution_count": null,
   "metadata": {},
   "outputs": [],
   "source": []
  },
  {
   "cell_type": "code",
   "execution_count": null,
   "metadata": {},
   "outputs": [],
   "source": []
  }
 ],
 "metadata": {
  "kernelspec": {
   "display_name": "Python 3",
   "language": "python",
   "name": "python3"
  },
  "language_info": {
   "codemirror_mode": {
    "name": "ipython",
    "version": 3
   },
   "file_extension": ".py",
   "mimetype": "text/x-python",
   "name": "python",
   "nbconvert_exporter": "python",
   "pygments_lexer": "ipython3",
   "version": "3.6.8"
  }
 },
 "nbformat": 4,
 "nbformat_minor": 2
}
