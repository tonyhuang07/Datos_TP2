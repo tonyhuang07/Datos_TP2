{
 "cells": [
  {
   "cell_type": "code",
   "execution_count": 1,
   "metadata": {},
   "outputs": [],
   "source": [
    "import numpy as np\n",
    "import pandas as pd\n",
    "import warnings\n",
    "warnings.filterwarnings('ignore')\n",
    "from preprocessing import preprocessing\n",
    "import matplotlib.pyplot as pyplot\n",
    "pyplot.style.use('default') # haciendo los graficos un poco mas bonitos en matplotlib\n"
   ]
  },
  {
   "cell_type": "code",
   "execution_count": 2,
   "metadata": {},
   "outputs": [],
   "source": [
    "from sklearn.model_selection import train_test_split\n",
    "from sklearn.metrics import mean_absolute_error\n",
    "from sklearn.metrics import accuracy_score\n",
    "\n",
    "from sklearn.linear_model import LinearRegression\n",
    "from sklearn.neighbors import KNeighborsRegressor\n",
    "from sklearn.svm import SVR\n",
    "from sklearn.linear_model import Lasso\n",
    "from sklearn.linear_model import Ridge\n",
    "from sklearn.neural_network import MLPRegressor\n",
    "from sklearn.tree import DecisionTreeRegressor\n",
    "from sklearn.tree import ExtraTreeRegressor\n",
    "\n",
    "from sklearn.ensemble import RandomForestRegressor\n",
    "from sklearn.ensemble import AdaBoostRegressor\n",
    "from sklearn.ensemble import GradientBoostingRegressor\n",
    "from sklearn.ensemble import BaggingRegressor\n",
    "\n",
    "from xgboost import XGBRegressor"
   ]
  },
  {
   "cell_type": "markdown",
   "metadata": {},
   "source": [
    "### Funciones Auxiliares"
   ]
  },
  {
   "cell_type": "code",
   "execution_count": 3,
   "metadata": {},
   "outputs": [],
   "source": [
    "def leer_csv(ruta):\n",
    "    return pd.read_csv(ruta)"
   ]
  },
  {
   "cell_type": "code",
   "execution_count": 4,
   "metadata": {},
   "outputs": [],
   "source": [
    "def separar_train_test(df_train, logaritmico):\n",
    "    X = df_train.copy().drop(columns = ['precio', 'log_precio'])\n",
    "    if logaritmico:\n",
    "        y = df_train['log_precio']\n",
    "    else:\n",
    "        y = df_train['precio']\n",
    "    return train_test_split(X, y, test_size = TEST_SIZE, random_state = RANDOM_STATE)\n",
    "    "
   ]
  },
  {
   "cell_type": "code",
   "execution_count": 5,
   "metadata": {},
   "outputs": [],
   "source": [
    "def mae_exp(x, y):\n",
    "    return mean_absolute_error(np.exp(x), np.exp(y))"
   ]
  },
  {
   "cell_type": "markdown",
   "metadata": {},
   "source": [
    "## Función de entrenamiento para los modelos"
   ]
  },
  {
   "cell_type": "code",
   "execution_count": 6,
   "metadata": {},
   "outputs": [],
   "source": [
    "def entrenar(modelo, ruta_df_train, nombre_modelo, logaritmico):\n",
    "\n",
    "    df_train = leer_csv(ruta_df_train)\n",
    "    \n",
    "    X_train, X_test, Y_train, Y_test = separar_train_test(df_train, logaritmico)\n",
    "    \n",
    "    resultado = []\n",
    "    \n",
    "\n",
    "    print('------------------------------------------------')\n",
    "    print('Comienza a entrenar: '+ nombre_modelo)\n",
    "    print()\n",
    "\n",
    "    modelo = modelo   \n",
    "    modelo.fit(X_train, Y_train)\n",
    "    prediccion = modelo.predict(X_test)\n",
    "\n",
    "    if logaritmico:\n",
    "        score = mean_absolute_error(np.exp(prediccion), np.exp(Y_test))\n",
    "    else:\n",
    "        score = mean_absolute_error(prediccion, Y_test)\n",
    "\n",
    "    resultado.append((str(nombre_modelo), str(score)))\n",
    "\n",
    "    print('**FINALIZADO** ' + nombre_modelo + ' Score [MAE]: ' + str(score))\n",
    "    print()\n",
    "    return resultado, modelo\n",
    "\n"
   ]
  },
  {
   "cell_type": "code",
   "execution_count": 11,
   "metadata": {},
   "outputs": [],
   "source": [
    "TEST_SIZE = 0.2\n",
    "RANDOM_STATE = 42\n",
    "\n",
    "RUTA_TRAIN_CON_NULLS = 'data/train_preproc_con_nulls.csv'\n",
    "RUTA_TRAIN_SIN_NULLS = 'data/train_preproc_sin_nulls.csv'\n",
    "RUTA_TEST_CON_NULLS = 'data/test_preproc_con_nulls.csv'\n",
    "RUTA_TEST_SIN_NULLS = 'data/test_preproc_sin_nulls.csv'\n",
    "\n",
    "CON_PRECIO_LOGARITMICO = True"
   ]
  },
  {
   "cell_type": "markdown",
   "metadata": {},
   "source": [
    "## XGBoost"
   ]
  },
  {
   "cell_type": "code",
   "execution_count": 12,
   "metadata": {},
   "outputs": [],
   "source": [
    "modelo_xgboost = XGBRegressor(n_estimators=150,max_depth=21,min_child_weight =2,eta = 0.1,\\\n",
    "                              subsample=0.9,colsample_bytree = 0.8,n_jobs = 8, random_state=RANDOM_STATE)\n",
    "nombre_xgboost = 'XGBoost'"
   ]
  },
  {
   "cell_type": "code",
   "execution_count": 15,
   "metadata": {},
   "outputs": [
    {
     "name": "stdout",
     "output_type": "stream",
     "text": [
      "------------------------------------------------\n",
      "Comienza a entrenar: XGBoost\n",
      "\n",
      "[19:30:01] WARNING: /workspace/src/objective/regression_obj.cu:152: reg:linear is now deprecated in favor of reg:squarederror.\n",
      "**FINALIZADO** XGBoost Score [MAE]: 487062.8823437501\n",
      "\n"
     ]
    }
   ],
   "source": [
    "resultado, modelo_xgboost =  entrenar(modelo_xgboost, RUTA_TRAIN_CON_NULLS, nombre_xgboost, CON_PRECIO_LOGARITMICO)"
   ]
  },
  {
   "cell_type": "markdown",
   "metadata": {},
   "source": [
    "## RandomForest Regressor"
   ]
  },
  {
   "cell_type": "code",
   "execution_count": 10,
   "metadata": {},
   "outputs": [
    {
     "name": "stdout",
     "output_type": "stream",
     "text": [
      "------------------------------------------------\n",
      "Comienza a entrenar: RandomForestRegressor\n",
      "\n",
      "**FINALIZADO** RandomForestRegressor Score [MAE]: 499026.67681519437\n",
      "\n"
     ]
    }
   ],
   "source": [
    "modelo_random_forest = RandomForestRegressor(n_estimators = 200, max_depth = 500, n_jobs = -1)\n",
    "nombre_random_forest = 'RandomForestRegressor'\n",
    "\n",
    "resultado, modelo_random_forest =  entrenar(modelo_random_forest, RUTA_TRAIN_SIN_NULLS, nombre_random_forest, CON_PRECIO_LOGARITMICO)\n",
    "\n",
    "#500683.88162094826"
   ]
  },
  {
   "cell_type": "markdown",
   "metadata": {},
   "source": [
    "## Promedio de las predicciones"
   ]
  },
  {
   "cell_type": "code",
   "execution_count": 22,
   "metadata": {},
   "outputs": [
    {
     "data": {
      "text/plain": [
       "406769.1317725219"
      ]
     },
     "execution_count": 22,
     "metadata": {},
     "output_type": "execute_result"
    }
   ],
   "source": [
    "___, X_test_sin_nulls, __, Y_test = separar_train_test(leer_csv(RUTA_TRAIN_SIN_NULLS), True)\n",
    "predicciones_random_forest = modelo_random_forest.predict(X_test_sin_nulls)\n",
    "\n",
    "___,X_test_con_nulls,_,__ = separar_train_test(leer_csv(RUTA_TRAIN_CON_NULLS), True)\n",
    "predicciones_xgboost = modelo_xgboost.predict(X_test_con_nulls)\n",
    "\n",
    "mean_absolute_error(np.exp((predicciones_xgboost+predicciones_random_forest)/2), np.exp(Y_test))"
   ]
  },
  {
   "cell_type": "markdown",
   "metadata": {},
   "source": [
    "_______________________\n",
    "## Función para entrega en kaggle"
   ]
  },
  {
   "cell_type": "code",
   "execution_count": 13,
   "metadata": {},
   "outputs": [],
   "source": [
    "def predecir(modelo, ruta_train, ruta_test):\n",
    "    \n",
    "    df_train = leer_csv(ruta_train).drop(columns = ['precio', 'log_precio'])\n",
    "    to_predict = leer_csv(ruta_test)\n",
    "    \n",
    "    columnas_train = df_train.columns\n",
    "    to_predict = to_predict.reindex(columns = columnas_train)\n",
    "    \n",
    "    predicciones = modelo.predict(to_predict)\n",
    "    \n",
    "    return predicciones"
   ]
  },
  {
   "cell_type": "code",
   "execution_count": 16,
   "metadata": {},
   "outputs": [],
   "source": [
    "predicciones_modelo_xgboost = predecir(modelo_xgboost, RUTA_TRAIN_CON_NULLS, RUTA_TEST_CON_NULLS)\n",
    "predicciones_modelo_random_forest = predecir(modelo_random_forest, RUTA_TRAIN_SIN_NULLS, RUTA_TEST_SIN_NULLS)"
   ]
  },
  {
   "cell_type": "code",
   "execution_count": 17,
   "metadata": {},
   "outputs": [],
   "source": [
    "def crear_df_predicciones(lista_predicciones):\n",
    "    \n",
    "    df_test_original = leer_csv('data/test.csv')\n",
    "    Id = df_test_original['id']\n",
    "    \n",
    "    df_resultado = pd.DataFrame()\n",
    "    \n",
    "    df_resultado['id'] = Id\n",
    "    \n",
    "    prediccion = np.exp(lista_predicciones[0])\n",
    "    for i in range(1, len(lista_predicciones)):\n",
    "        prediccion += np.exp(lista_predicciones[i])\n",
    "    \n",
    "    df_resultado['target'] = prediccion/len(lista_predicciones)\n",
    "    \n",
    "    return df_resultado"
   ]
  },
  {
   "cell_type": "code",
   "execution_count": 23,
   "metadata": {},
   "outputs": [],
   "source": [
    "df_predicciones = crear_df_predicciones([predicciones_modelo_random_forest, predicciones_modelo_xgboost])"
   ]
  },
  {
   "cell_type": "code",
   "execution_count": 25,
   "metadata": {},
   "outputs": [],
   "source": [
    "df_predicciones.to_csv('data/prediccion.csv', index=False)"
   ]
  },
  {
   "cell_type": "markdown",
   "metadata": {},
   "source": [
    "___________\n",
    "# Resultados guardados"
   ]
  },
  {
   "cell_type": "markdown",
   "metadata": {},
   "source": [
    "**FINALIZADO** XGBoost Score: 543519.3351068652\n",
    "\n",
    "**FINALIZADO** XGBoost Score: 543808.3471162983 //Antes de agregar metros_cubiertos\n",
    "\n",
    "**FINALIZADO** XGBoost Score: 500191.9174657849 //Despues de agregar metros_cubiertos\n",
    "\n",
    "**FINALIZADO** XGBoost Score: 501766.49058353336 //Despues de agregar gimnasio, usos multiples y piscina\n",
    "\n",
    "**FINALIZADO** XGBoost Score: 500862.1657935754 // Agrego solo piscina.\n",
    "\n",
    "**FINALIZADO** XGBoost Score: 499181.4921723928 //Agrego precio promedio por m2 por provincia. Dejando piscina mejora.\n",
    "\n",
    "**FINALIZADO** XGBoost Score: 496056.96402535716 //Tony agrega lat+lng precio promedio por m2\n",
    "\n",
    "**FINALIZADO** XGBoost Score: 495398.1192696873 //Agrego feature tiene_sup_descubierta\n",
    "\n",
    "**FINALIZADO** XGBoost Score: 491674.73406999116 //Agrego feature diff_metros_totales y metros_cubiertos\n",
    "\n",
    "**FINALIZADO** XGBoost Score: 491335.880882687 //Agrego one hot encoding para antiguedad\n",
    "\n",
    "**FINALIZADO** XGBoost Score: 490347.0285999908 //Dejando columna antiguedad Y el one hot encoding (antes se dropeaba)\n",
    "\n",
    "**FINALIZADO** XGBoost Score: 489407.5245960651 //No imputando. Poniendo listas vacias\n",
    "\n",
    "**FINALIZADO** XGBoost Score: 487797.2694374844 // **ENTREGA** USANDO 0.1 DE TEST_SIZE\n",
    "\n",
    "**FINALIZADO** XGBoost Score:485399.4606591214 // con palabras [increíble excelente hermos espectacular exclusivo] para palabras importantes\n",
    "\n",
    "**FINALIZADO** XGBoost Score: 482156.3098664535 //con palabras ['cuarto servicio','para auto','baño completo','sala comedor','cocina integral','baño vestidor'] para palabras importantes\n",
    "\n",
    "**FINALIZADO** XGBoost Score: 480918.3753545355 //con palabras ['cuarto servicio','para auto','baño completo','baño vestidor','exclusivo'] para palabras importantes\n",
    "\n",
    "**FINALIZADO** XGBoost Score: 475666.92711221 // **Entrege** con 0.05 DE TEST_SIZE con palabras ['roof garden', 'doble altura', 'sala tv', \\\n",
    "           'lugares estacionamiento','cajones estacionamiento',\\\n",
    "            'family room','double altura','salón juego','ideal para',\\\n",
    "            'amplios espacio', 'independiente', 'casa condominio',\\\n",
    "            'salón juego', 'pisos madera','exclusivo'] para palabras importantes\n",
    "\n",
    "--------------------------------------------------------------------\n",
    "\n",
    "**FINALIZADO** XGBoost Score [MAE]: 486560.74267065345 // One hot encoding de habitaciones y banos\n",
    "\n",
    "\n",
    "\n",
    "\n"
   ]
  },
  {
   "cell_type": "markdown",
   "metadata": {},
   "source": [
    "**FINALIZADO** RandomForestRegressor Score [MAE]: 500686.94137633865 // One hot encoding banos y habitaciones"
   ]
  }
 ],
 "metadata": {
  "kernelspec": {
   "display_name": "Python 3",
   "language": "python",
   "name": "python3"
  },
  "language_info": {
   "codemirror_mode": {
    "name": "ipython",
    "version": 3
   },
   "file_extension": ".py",
   "mimetype": "text/x-python",
   "name": "python",
   "nbconvert_exporter": "python",
   "pygments_lexer": "ipython3",
   "version": "3.6.9"
  }
 },
 "nbformat": 4,
 "nbformat_minor": 4
}
