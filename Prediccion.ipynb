{
 "cells": [
  {
   "cell_type": "code",
   "execution_count": 2,
   "metadata": {},
   "outputs": [],
   "source": [
    "import numpy as np\n",
    "import pandas as pd\n",
    "import warnings\n",
    "warnings.filterwarnings('ignore')"
   ]
  },
  {
   "cell_type": "code",
   "execution_count": 3,
   "metadata": {},
   "outputs": [],
   "source": [
    "from sklearn import preprocessing\n",
    "from sklearn.model_selection import train_test_split\n",
    "from sklearn.preprocessing import StandardScaler\n",
    "from sklearn.metrics import mean_absolute_error"
   ]
  },
  {
   "cell_type": "code",
   "execution_count": 4,
   "metadata": {},
   "outputs": [],
   "source": [
    "from sklearn.linear_model import LinearRegression\n",
    "from sklearn.neighbors import KNeighborsRegressor\n",
    "from sklearn.svm import SVR\n",
    "from sklearn.linear_model import Lasso\n",
    "from sklearn.linear_model import Ridge\n",
    "from sklearn.neural_network import MLPRegressor\n",
    "from sklearn.tree import DecisionTreeRegressor\n",
    "from sklearn.tree import ExtraTreeRegressor\n",
    "from xgboost import XGBRegressor\n",
    "from sklearn.ensemble import RandomForestRegressor\n",
    "from sklearn.ensemble import AdaBoostRegressor\n",
    "from sklearn.ensemble import GradientBoostingRegressor\n",
    "from sklearn.ensemble import BaggingRegressor"
   ]
  },
  {
   "cell_type": "code",
   "execution_count": 5,
   "metadata": {},
   "outputs": [],
   "source": [
    "def leer_csv(ruta):\n",
    "    return pd.read_csv(ruta)"
   ]
  },
  {
   "cell_type": "code",
   "execution_count": 16,
   "metadata": {},
   "outputs": [],
   "source": [
    "TEST_SIZE = 0.1\n",
    "RANDOM_STATE = 42\n",
    "\n",
    "def separar_train_test(df_train, logaritmico):\n",
    "    X = df_train.copy().drop(columns = ['precio', 'log_precio'])\n",
    "    if logaritmico:\n",
    "        y = df_train['log_precio']\n",
    "    else:\n",
    "        y = df_train['precio']\n",
    "    return train_test_split(X, y, test_size = TEST_SIZE, random_state = RANDOM_STATE)\n",
    "    "
   ]
  },
  {
   "cell_type": "code",
   "execution_count": 17,
   "metadata": {},
   "outputs": [],
   "source": [
    "RUTA_TRAIN = 'data/train_preproc.csv'\n",
    "RUTA_TEST = 'data/test_preproc.csv'\n",
    "\n",
    "def entrenar(modelos, nombres_modelos, logaritmico, predecir_test = False):\n",
    "\n",
    "    df_train = leer_csv(RUTA_TRAIN)\n",
    "\n",
    "    X_train, X_test, Y_train, Y_test = separar_train_test(df_train, logaritmico)\n",
    "    \n",
    "    resultado = []\n",
    "    \n",
    "    for nombre,modelo in zip(nombres_modelos, modelos):\n",
    "        print('------------------------------------------------')\n",
    "        print('Comienza a entrenar: '+ nombre)\n",
    "        print()\n",
    "        \n",
    "        modelo = modelo   \n",
    "        modelo.fit(X_train, Y_train)\n",
    "        prediccion = modelo.predict(X_test)\n",
    "        \n",
    "        if logaritmico:\n",
    "            score = mean_absolute_error(np.exp(prediccion), np.exp(Y_test))\n",
    "        else:\n",
    "            score = mean_absolute_error(prediccion, Y_test)\n",
    "            \n",
    "        resultado.append((str(nombre), str(score)))\n",
    "\n",
    "        print('**FINALIZADO** ' + nombre + ' Score: ' + str(score))\n",
    "        print()\n",
    "    return resultado, modelo\n",
    "\n"
   ]
  },
  {
   "cell_type": "code",
   "execution_count": 18,
   "metadata": {},
   "outputs": [
    {
     "name": "stdout",
     "output_type": "stream",
     "text": [
      "------------------------------------------------\n",
      "Comienza a entrenar: XGBoost\n",
      "\n",
      "[23:14:21] WARNING: /workspace/src/objective/regression_obj.cu:152: reg:linear is now deprecated in favor of reg:squarederror.\n",
      "**FINALIZADO** XGBoost Score: 487797.2694374844\n",
      "\n"
     ]
    }
   ],
   "source": [
    "CON_PRECIO_LOGARITMICO = True\n",
    "\n",
    "#MODELOS = [RandomForestRegressor(n_estimators = 200, max_depth = 500, n_jobs = -1), XGBRegressor(n_estimators=200,max_depth=20,subsample=0.7,min_child_weight =3,colsample_bytree = 0.7,eta = 0.1), BaggingRegressor()]\n",
    "MODELOS = [XGBRegressor(n_estimators=200,max_depth=20,subsample=0.7,min_child_weight =3,colsample_bytree = 0.7,eta = 0.1)]\n",
    "#NOMBRES_MODELOS = ['RandomForestRegressor', 'XGBoost', 'Bagging']\n",
    "NOMBRES_MODELOS = ['XGBoost']\n",
    "resultado ,modelo= entrenar(MODELOS, NOMBRES_MODELOS, CON_PRECIO_LOGARITMICO)"
   ]
  },
  {
   "cell_type": "markdown",
   "metadata": {},
   "source": [
    "**FINALIZADO** XGBoost Score: 543519.3351068652\n",
    "\n",
    "**FINALIZADO** XGBoost Score: 543808.3471162983 //Antes de agregar metros_cubiertos\n",
    "\n",
    "**FINALIZADO** XGBoost Score: 500191.9174657849 //Despues de agregar metros_cubiertos\n",
    "\n",
    "**FINALIZADO** XGBoost Score: 501766.49058353336 //Despues de agregar gimnasio, usos multiples y piscina\n",
    "\n",
    "**FINALIZADO** XGBoost Score: 500862.1657935754 // Agrego solo piscina.\n",
    "\n",
    "**FINALIZADO** XGBoost Score: 499181.4921723928 //Agrego precio promedio por m2 por provincia. Dejando piscina mejora.\n",
    "\n",
    "**FINALIZADO** XGBoost Score: 496056.96402535716 //Tony agrega lat+lng precio promedio por m2\n",
    "\n",
    "**FINALIZADO** XGBoost Score: 495398.1192696873 //Agrego feature tiene_sup_descubierta\n",
    "\n",
    "**FINALIZADO** XGBoost Score: 491674.73406999116 //Agrego feature diff_metros_totales y metros_cubiertos\n",
    "\n",
    "**FINALIZADO** XGBoost Score: 491335.880882687 //Agrego one hot encoding para antiguedad\n",
    "\n",
    "**FINALIZADO** XGBoost Score: 490347.0285999908 //Dejando columna antiguedad Y el one hot encoding (antes se dropeaba)\n",
    "\n",
    "**FINALIZADO** XGBoost Score: 489407.5245960651 //No imputando. Poniendo listas vacias\n",
    "\n",
    "**FINALIZADO** XGBoost Score: 487797.2694374844 // **ENTREGA** USANDO 0.1 DE TEST_SIZE"
   ]
  },
  {
   "cell_type": "code",
   "execution_count": 20,
   "metadata": {},
   "outputs": [],
   "source": [
    "def predecir(indice_modelo, guardar_csv = True):\n",
    "    \n",
    "    df_train = leer_csv(RUTA_TRAIN).drop(columns = ['precio', 'log_precio'])\n",
    "    to_predict = leer_csv(RUTA_TEST)\n",
    "    \n",
    "    df_test_original = leer_csv('data/test.csv')\n",
    "    Id = df_test_original['id']\n",
    "    \n",
    "    columnas_train = df_train.columns\n",
    "    to_predict = to_predict.reindex(columns = columnas_train)\n",
    "    \n",
    "    predicciones = modelo.predict(to_predict)\n",
    "    \n",
    "    df_resultado = pd.DataFrame()\n",
    "    df_resultado['Id'] = Id\n",
    "    df_resultado['target'] = np.exp(predicciones)\n",
    "    if guardar_csv:\n",
    "        df_resultado.to_csv('resultados2.csv',index=False)\n",
    "        \n",
    "    return df_resultado\n",
    "\n",
    "INDICE_MODELO = 0\n",
    "\n",
    "df_resultado = predecir(modelo)"
   ]
  },
  {
   "cell_type": "code",
   "execution_count": 21,
   "metadata": {},
   "outputs": [
    {
     "data": {
      "text/html": [
       "<div>\n",
       "<style scoped>\n",
       "    .dataframe tbody tr th:only-of-type {\n",
       "        vertical-align: middle;\n",
       "    }\n",
       "\n",
       "    .dataframe tbody tr th {\n",
       "        vertical-align: top;\n",
       "    }\n",
       "\n",
       "    .dataframe thead th {\n",
       "        text-align: right;\n",
       "    }\n",
       "</style>\n",
       "<table border=\"1\" class=\"dataframe\">\n",
       "  <thead>\n",
       "    <tr style=\"text-align: right;\">\n",
       "      <th></th>\n",
       "      <th>Id</th>\n",
       "      <th>target</th>\n",
       "    </tr>\n",
       "  </thead>\n",
       "  <tbody>\n",
       "    <tr>\n",
       "      <th>0</th>\n",
       "      <td>4941</td>\n",
       "      <td>6.974868e+06</td>\n",
       "    </tr>\n",
       "    <tr>\n",
       "      <th>1</th>\n",
       "      <td>51775</td>\n",
       "      <td>9.450501e+05</td>\n",
       "    </tr>\n",
       "    <tr>\n",
       "      <th>2</th>\n",
       "      <td>115253</td>\n",
       "      <td>2.341713e+06</td>\n",
       "    </tr>\n",
       "    <tr>\n",
       "      <th>3</th>\n",
       "      <td>299321</td>\n",
       "      <td>1.625022e+06</td>\n",
       "    </tr>\n",
       "    <tr>\n",
       "      <th>4</th>\n",
       "      <td>173570</td>\n",
       "      <td>7.189048e+05</td>\n",
       "    </tr>\n",
       "    <tr>\n",
       "      <th>...</th>\n",
       "      <td>...</td>\n",
       "      <td>...</td>\n",
       "    </tr>\n",
       "    <tr>\n",
       "      <th>59995</th>\n",
       "      <td>75094</td>\n",
       "      <td>3.670187e+06</td>\n",
       "    </tr>\n",
       "    <tr>\n",
       "      <th>59996</th>\n",
       "      <td>171847</td>\n",
       "      <td>8.199179e+05</td>\n",
       "    </tr>\n",
       "    <tr>\n",
       "      <th>59997</th>\n",
       "      <td>138313</td>\n",
       "      <td>7.447660e+05</td>\n",
       "    </tr>\n",
       "    <tr>\n",
       "      <th>59998</th>\n",
       "      <td>271268</td>\n",
       "      <td>1.616250e+06</td>\n",
       "    </tr>\n",
       "    <tr>\n",
       "      <th>59999</th>\n",
       "      <td>72612</td>\n",
       "      <td>2.570530e+06</td>\n",
       "    </tr>\n",
       "  </tbody>\n",
       "</table>\n",
       "<p>60000 rows × 2 columns</p>\n",
       "</div>"
      ],
      "text/plain": [
       "           Id        target\n",
       "0        4941  6.974868e+06\n",
       "1       51775  9.450501e+05\n",
       "2      115253  2.341713e+06\n",
       "3      299321  1.625022e+06\n",
       "4      173570  7.189048e+05\n",
       "...       ...           ...\n",
       "59995   75094  3.670187e+06\n",
       "59996  171847  8.199179e+05\n",
       "59997  138313  7.447660e+05\n",
       "59998  271268  1.616250e+06\n",
       "59999   72612  2.570530e+06\n",
       "\n",
       "[60000 rows x 2 columns]"
      ]
     },
     "execution_count": 21,
     "metadata": {},
     "output_type": "execute_result"
    }
   ],
   "source": [
    "df_resultado"
   ]
  }
 ],
 "metadata": {
  "kernelspec": {
   "display_name": "Python 3",
   "language": "python",
   "name": "python3"
  },
  "language_info": {
   "codemirror_mode": {
    "name": "ipython",
    "version": 3
   },
   "file_extension": ".py",
   "mimetype": "text/x-python",
   "name": "python",
   "nbconvert_exporter": "python",
   "pygments_lexer": "ipython3",
   "version": "3.6.8"
  }
 },
 "nbformat": 4,
 "nbformat_minor": 4
}
