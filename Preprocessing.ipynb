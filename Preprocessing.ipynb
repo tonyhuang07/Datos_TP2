{
 "cells": [
  {
   "cell_type": "code",
   "execution_count": 1,
   "metadata": {},
   "outputs": [],
   "source": [
    "import numpy as np\n",
    "import pandas as pd\n",
    "import warnings\n",
    "warnings.filterwarnings('ignore')\n",
    "from sklearn import preprocessing\n",
    "from sklearn.model_selection import train_test_split\n",
    "from sklearn.preprocessing import StandardScaler\n",
    "from sklearn_pandas import DataFrameMapper, CategoricalImputer\n",
    "from sklearn.impute import SimpleImputer\n",
    "from sklearn.base import TransformerMixin\n"
   ]
  },
  {
   "cell_type": "markdown",
   "metadata": {},
   "source": [
    "Funciones auxiliares"
   ]
  },
  {
   "cell_type": "code",
   "execution_count": 2,
   "metadata": {},
   "outputs": [],
   "source": [
    "def leer_csv(ruta):\n",
    "    return pd.read_csv(ruta, dtype={\n",
    "    'tipodepropiedad':'category', 'ciudad':'category',\\\n",
    "    'provincia':'category'}, parse_dates=[16])\n",
    "\n",
    "# funcion para setear los superficies\n",
    "def set_metros(row):\n",
    "    total = row.metrostotales\n",
    "    covered = row.metroscubiertos\n",
    "    if np.isnan(total):\n",
    "        row.metrostotales = covered\n",
    "        return row\n",
    "    if np.isnan(covered):\n",
    "        row.metroscubiertos = total\n",
    "        return row\n",
    "    return row"
   ]
  },
  {
   "cell_type": "markdown",
   "metadata": {},
   "source": [
    "# Preprocessing "
   ]
  },
  {
   "cell_type": "markdown",
   "metadata": {},
   "source": [
    "Imputing Functions"
   ]
  },
  {
   "cell_type": "code",
   "execution_count": 3,
   "metadata": {},
   "outputs": [],
   "source": [
    "# define numerical imputer\n",
    "num_imputer = SimpleImputer(strategy='mean')\n",
    "\n",
    "class SeriesImputer(TransformerMixin):\n",
    "\n",
    "    def __init__(self):\n",
    "        \"\"\"Impute missing values.\n",
    "\n",
    "        If the Series is of dtype Category, then impute with the most frequent object.\n",
    "        \"\"\"\n",
    "    def fit(self, X, y=None):\n",
    "        self.fill = X.value_counts().index[0]\n",
    "        return self\n",
    "\n",
    "    def transform(self, X, y=None):\n",
    "        return X.fillna(self.fill)\n",
    "\n",
    "# define categorical imputer\n",
    "cat_imputer = SeriesImputer()\n",
    "\n",
    "def fill_valores(df, zeros, num_cols, cat_cols):\n",
    "    if zeros:\n",
    "        df[zeros] = df[zeros].fillna(value=0)\n",
    "    if num_cols:\n",
    "        df[num_cols] = num_imputer.fit_transform(df[num_cols])\n",
    "    if cat_cols:\n",
    "        for col in cat_cols:\n",
    "            df[col] = cat_imputer.fit_transform(df[col])\n",
    "    return df"
   ]
  },
  {
   "cell_type": "markdown",
   "metadata": {},
   "source": [
    "Encoding functions"
   ]
  },
  {
   "cell_type": "code",
   "execution_count": 4,
   "metadata": {},
   "outputs": [],
   "source": [
    "def one_hot_encoder(df, columnas):\n",
    "    for col in columnas:\n",
    "        df = pd.get_dummies(df, prefix = ['cat'], columns = [col])\n",
    "    return df"
   ]
  },
  {
   "cell_type": "markdown",
   "metadata": {},
   "source": [
    "Procesamiento de valores nulos"
   ]
  },
  {
   "cell_type": "code",
   "execution_count": 5,
   "metadata": {},
   "outputs": [],
   "source": [
    "def processing_nulos(df, zeros_cols, num_cols, cat_cols, eliminar_sin_tipo=False):\n",
    "    \n",
    "    # Metros cubiertos y totales\n",
    "    \n",
    "    df[['metrostotales', 'metroscubiertos']] = \\\n",
    "    df[['metrostotales', 'metroscubiertos']].apply(set_metros, axis = 1)\n",
    "    \n",
    "    # Imputando otras columnas\n",
    "    \n",
    "    df = fill_valores(df, zeros_cols, num_cols, cat_cols)\n",
    "    \n",
    "    return df"
   ]
  },
  {
   "cell_type": "markdown",
   "metadata": {},
   "source": [
    "Procesamiento de Fechas"
   ]
  },
  {
   "cell_type": "code",
   "execution_count": 6,
   "metadata": {},
   "outputs": [],
   "source": [
    "def processing_fechas(df, anio, mes, dia):\n",
    "    df['fecha'] = pd.to_datetime(df['fecha'])\n",
    "        \n",
    "    if anio:\n",
    "        df['anio'] = df['fecha'].dt.year\n",
    "    if mes:\n",
    "        df['mes'] = df['fecha'].dt.month\n",
    "    if dia:\n",
    "        df['dia'] = df['fecha'].dt.day\n",
    "    return df"
   ]
  },
  {
   "cell_type": "markdown",
   "metadata": {},
   "source": [
    "Función suma_columnas"
   ]
  },
  {
   "cell_type": "code",
   "execution_count": 7,
   "metadata": {},
   "outputs": [],
   "source": [
    "def suma_columnas(df, cols):\n",
    "    nombre = ''\n",
    "    for col in cols:\n",
    "        nombre = nombre + col\n",
    "    df['suma_'+nombre] = sum([df[col] for col in cols])\n",
    "    return df"
   ]
  },
  {
   "cell_type": "markdown",
   "metadata": {},
   "source": [
    "_____\n",
    "### Funcion de preprocessing"
   ]
  },
  {
   "cell_type": "code",
   "execution_count": 8,
   "metadata": {},
   "outputs": [],
   "source": [
    "def cambiar_valores(x):\n",
    "    i = 0\n",
    "    if x.name == 'precioporm2':\n",
    "        i+=1\n",
    "        return i\n",
    "    return x\n",
    "\n",
    "def encoder_idzona(df_train, df_test): \n",
    "    \n",
    "    df_train['precioporm2'] = df_train['precio'] / df_train['metrostotales']\n",
    "\n",
    "    precio_m2_por_idzona = df_train.groupby('idzona').agg({'precioporm2' : 'mean'})\n",
    "    precio_m2_por_idzona.reset_index(inplace = True)\n",
    "    precio_m2_por_idzona = precio_m2_por_idzona.sort_values(by = 'precioporm2')\n",
    "\n",
    "    precio_m2_por_idzona = precio_m2_por_idzona.apply(cambiar_valores)\n",
    "    precio_m2_por_idzona['precioporm2'] = precio_m2_por_idzona['precioporm2'].cumsum()\n",
    "\n",
    "    orden_idzona = precio_m2_por_idzona.set_index('idzona').to_dict()\n",
    "    orden_idzona = orden_idzona['precioporm2']\n",
    "\n",
    "    df_train['idzona_ordinal'] = cat_imputer.fit_transform(df_train.idzona.map(orden_idzona))\n",
    "    df_test['idzona_ordinal'] = cat_imputer.fit_transform(df_test.idzona.map(orden_idzona))\n",
    "    \n",
    "    return df_train, df_test\n"
   ]
  },
  {
   "cell_type": "code",
   "execution_count": 9,
   "metadata": {},
   "outputs": [],
   "source": [
    "def encoder_ciudad(df_train, df_test):\n",
    "    #filtrando los precios\n",
    "    #hay que eliminar los nulls primero\n",
    "    df_train['precioporm2'] = df_train['precio'] / df_train['metrostotales']\n",
    "    df_train_ciudad = df_train.groupby('ciudad').agg({'precioporm2':'mean'}).sort_values('precioporm2').reset_index()\n",
    "    df_train_ciudad['precioporm2'] = np.log(df_train_ciudad['precioporm2'])\n",
    "    ciudad_log_precio = df_train_ciudad.set_index('ciudad').to_dict()['precioporm2']\n",
    "\n",
    "    df_test['ciudad_ordinal'] = cat_imputer.fit_transform(df_test.ciudad.map(ciudad_log_precio))\n",
    "    \n",
    "    df_train['ciudad_ordinal'] = cat_imputer.fit_transform(df_train.ciudad.map(ciudad_log_precio))\n",
    "    \n",
    "    return df_train, df_test"
   ]
  },
  {
   "cell_type": "code",
   "execution_count": 10,
   "metadata": {},
   "outputs": [],
   "source": [
    "def preprocessing(guardar_csv=False):\n",
    "    df_train = leer_csv('data/train.csv')\n",
    "    df_test  = leer_csv('data/test.csv')\n",
    "    \n",
    "    df_train = df_train[(df_train['tipodepropiedad'] != 'Hospedaje')&\\\n",
    "                        (df_train['tipodepropiedad'] != 'Garage')]\n",
    "    \n",
    "    ## Fechas\n",
    "    \n",
    "    df_train = processing_fechas(df_train, True, True, True)\n",
    "    df_test = processing_fechas(df_test, True, True, True)\n",
    "    \n",
    "    ## Nulos\n",
    "    \n",
    "    zeros_cols_train = None\n",
    "    num_cols_train = ['antiguedad', 'habitaciones', 'banos', 'garages']\n",
    "    cat_cols_train = ['ciudad', 'tipodepropiedad', 'idzona']\n",
    "    \n",
    "    zeros_cols_test = None\n",
    "    num_cols_test = ['antiguedad', 'habitaciones', 'banos', 'garages']\n",
    "    cat_cols_test = ['ciudad', 'tipodepropiedad', 'idzona']\n",
    "    \n",
    "    df_train = processing_nulos(df_train, zeros_cols_train, num_cols_train, cat_cols_train, eliminar_sin_tipo=True)\n",
    "    df_test = processing_nulos(df_test, zeros_cols_test, num_cols_test, cat_cols_test)\n",
    "    \n",
    "    ## Encoding de variables categóricas\n",
    "    \n",
    "    # One Hot encoding para 'tipo de propiedad'\n",
    "    df_train['tipodepropiedad'].cat.remove_unused_categories()\n",
    "    df_train = one_hot_encoder(df_train, ['tipodepropiedad'])\n",
    "    df_test = one_hot_encoder(df_test, ['tipodepropiedad'])\n",
    "    \n",
    "    # Encoding ordinal de las ciudades\n",
    "    \n",
    "    df_train, df_test = encoder_ciudad(df_train, df_test)\n",
    "    \n",
    "    ## Otras Features\n",
    "    \n",
    "    # 'cant_extras' = 'gimnasio'+'usosmultiples'+'piscina'\n",
    "    extras = ['gimnasio', 'usosmultiples', 'piscina']\n",
    "    df_train = suma_columnas(df_train, extras)\n",
    "    df_test = suma_columnas(df_test, extras)\n",
    "    \n",
    "    # 'cant_cercanos' = 'escuelascercanas'+'centroscomercialescercanos'\n",
    "    cercanos = ['escuelascercanas', 'centroscomercialescercanos']\n",
    "    df_train = suma_columnas(df_train, cercanos)\n",
    "    df_test = suma_columnas(df_test, cercanos)\n",
    "    \n",
    "    \n",
    "    ## Eliminamos columnas no utilizadas\n",
    "    df_train.drop(columns=['fecha', 'id', 'titulo', 'descripcion','direccion',\\\n",
    "                           'lat', 'lng', 'provincia','ciudad','gimnasio','usosmultiples',\\\n",
    "                           'piscina','escuelascercanas','centroscomercialescercanos',\\\n",
    "                           'metroscubiertos','precioporm2', 'cat_Garage', 'cat_Hospedaje'], inplace=True)\n",
    "    df_test.drop(columns=['fecha', 'id', 'titulo', 'descripcion', 'direccion',\\\n",
    "                          'lat', 'lng','provincia', 'ciudad','gimnasio','usosmultiples',\\\n",
    "                          'piscina','escuelascercanas','centroscomercialescercanos',\\\n",
    "                          'metroscubiertos'], inplace=True)\n",
    "    \n",
    "    ## Agregamos columna con log(precio)\n",
    "    df_train['log_precio'] = np.log(df_train['precio'])\n",
    "    \n",
    "    if guardar_csv:\n",
    "        df_train.to_csv('data/train_preproc.csv', index = False)\n",
    "        df_test.to_csv('data/test_preproc.csv', index = False)\n",
    "    return df_train, df_test"
   ]
  },
  {
   "cell_type": "code",
   "execution_count": 11,
   "metadata": {},
   "outputs": [],
   "source": [
    "df_train, df_test = preprocessing(guardar_csv=True)"
   ]
  },
  {
   "cell_type": "code",
   "execution_count": 12,
   "metadata": {},
   "outputs": [
    {
     "data": {
      "text/plain": [
       "36"
      ]
     },
     "execution_count": 12,
     "metadata": {},
     "output_type": "execute_result"
    }
   ],
   "source": [
    "# tiene 2 columnas más: precio y log_precio\n",
    "df_train.columns.nunique()"
   ]
  },
  {
   "cell_type": "code",
   "execution_count": 13,
   "metadata": {},
   "outputs": [
    {
     "data": {
      "text/plain": [
       "34"
      ]
     },
     "execution_count": 13,
     "metadata": {},
     "output_type": "execute_result"
    }
   ],
   "source": [
    "df_test.columns.nunique()"
   ]
  },
  {
   "cell_type": "code",
   "execution_count": 14,
   "metadata": {},
   "outputs": [
    {
     "data": {
      "text/plain": [
       "antiguedad                                         0\n",
       "habitaciones                                       0\n",
       "garages                                            0\n",
       "banos                                              0\n",
       "metrostotales                                      0\n",
       "idzona                                             0\n",
       "anio                                               0\n",
       "mes                                                0\n",
       "dia                                                0\n",
       "cat_Apartamento                                    0\n",
       "cat_Bodega comercial                               0\n",
       "cat_Casa                                           0\n",
       "cat_Casa en condominio                             0\n",
       "cat_Casa uso de suelo                              0\n",
       "cat_Departamento Compartido                        0\n",
       "cat_Duplex                                         0\n",
       "cat_Edificio                                       0\n",
       "cat_Inmuebles productivos urbanos                  0\n",
       "cat_Local Comercial                                0\n",
       "cat_Local en centro comercial                      0\n",
       "cat_Nave industrial                                0\n",
       "cat_Oficina comercial                              0\n",
       "cat_Otros                                          0\n",
       "cat_Quinta Vacacional                              0\n",
       "cat_Rancho                                         0\n",
       "cat_Terreno                                        0\n",
       "cat_Terreno comercial                              0\n",
       "cat_Terreno industrial                             0\n",
       "cat_Villa                                          0\n",
       "cat_Huerta                                         0\n",
       "cat_Lote                                           0\n",
       "ciudad_ordinal                                     0\n",
       "suma_gimnasiousosmultiplespiscina                  0\n",
       "suma_escuelascercanascentroscomercialescercanos    0\n",
       "dtype: int64"
      ]
     },
     "execution_count": 14,
     "metadata": {},
     "output_type": "execute_result"
    }
   ],
   "source": [
    "df_test.isnull().sum()"
   ]
  },
  {
   "cell_type": "code",
   "execution_count": 15,
   "metadata": {},
   "outputs": [
    {
     "data": {
      "text/plain": [
       "antiguedad                                         0\n",
       "habitaciones                                       0\n",
       "garages                                            0\n",
       "banos                                              0\n",
       "metrostotales                                      0\n",
       "idzona                                             0\n",
       "precio                                             0\n",
       "anio                                               0\n",
       "mes                                                0\n",
       "dia                                                0\n",
       "cat_Apartamento                                    0\n",
       "cat_Bodega comercial                               0\n",
       "cat_Casa                                           0\n",
       "cat_Casa en condominio                             0\n",
       "cat_Casa uso de suelo                              0\n",
       "cat_Departamento Compartido                        0\n",
       "cat_Duplex                                         0\n",
       "cat_Edificio                                       0\n",
       "cat_Huerta                                         0\n",
       "cat_Inmuebles productivos urbanos                  0\n",
       "cat_Local Comercial                                0\n",
       "cat_Local en centro comercial                      0\n",
       "cat_Lote                                           0\n",
       "cat_Nave industrial                                0\n",
       "cat_Oficina comercial                              0\n",
       "cat_Otros                                          0\n",
       "cat_Quinta Vacacional                              0\n",
       "cat_Rancho                                         0\n",
       "cat_Terreno                                        0\n",
       "cat_Terreno comercial                              0\n",
       "cat_Terreno industrial                             0\n",
       "cat_Villa                                          0\n",
       "ciudad_ordinal                                     0\n",
       "suma_gimnasiousosmultiplespiscina                  0\n",
       "suma_escuelascercanascentroscomercialescercanos    0\n",
       "log_precio                                         0\n",
       "dtype: int64"
      ]
     },
     "execution_count": 15,
     "metadata": {},
     "output_type": "execute_result"
    }
   ],
   "source": [
    "df_train.isnull().sum()"
   ]
  },
  {
   "cell_type": "code",
   "execution_count": 16,
   "metadata": {},
   "outputs": [
    {
     "data": {
      "text/html": [
       "<div>\n",
       "<style scoped>\n",
       "    .dataframe tbody tr th:only-of-type {\n",
       "        vertical-align: middle;\n",
       "    }\n",
       "\n",
       "    .dataframe tbody tr th {\n",
       "        vertical-align: top;\n",
       "    }\n",
       "\n",
       "    .dataframe thead th {\n",
       "        text-align: right;\n",
       "    }\n",
       "</style>\n",
       "<table border=\"1\" class=\"dataframe\">\n",
       "  <thead>\n",
       "    <tr style=\"text-align: right;\">\n",
       "      <th></th>\n",
       "      <th>antiguedad</th>\n",
       "      <th>habitaciones</th>\n",
       "      <th>garages</th>\n",
       "      <th>banos</th>\n",
       "      <th>metrostotales</th>\n",
       "      <th>idzona</th>\n",
       "      <th>precio</th>\n",
       "      <th>anio</th>\n",
       "      <th>mes</th>\n",
       "      <th>dia</th>\n",
       "      <th>...</th>\n",
       "      <th>cat_Quinta Vacacional</th>\n",
       "      <th>cat_Rancho</th>\n",
       "      <th>cat_Terreno</th>\n",
       "      <th>cat_Terreno comercial</th>\n",
       "      <th>cat_Terreno industrial</th>\n",
       "      <th>cat_Villa</th>\n",
       "      <th>ciudad_ordinal</th>\n",
       "      <th>suma_gimnasiousosmultiplespiscina</th>\n",
       "      <th>suma_escuelascercanascentroscomercialescercanos</th>\n",
       "      <th>log_precio</th>\n",
       "    </tr>\n",
       "  </thead>\n",
       "  <tbody>\n",
       "    <tr>\n",
       "      <th>0</th>\n",
       "      <td>8.116273</td>\n",
       "      <td>2.0</td>\n",
       "      <td>1.0</td>\n",
       "      <td>2.0</td>\n",
       "      <td>80.0</td>\n",
       "      <td>23533.0</td>\n",
       "      <td>2273000.0</td>\n",
       "      <td>2015</td>\n",
       "      <td>8</td>\n",
       "      <td>23</td>\n",
       "      <td>...</td>\n",
       "      <td>0</td>\n",
       "      <td>0</td>\n",
       "      <td>0</td>\n",
       "      <td>0</td>\n",
       "      <td>0</td>\n",
       "      <td>0</td>\n",
       "      <td>10.236050</td>\n",
       "      <td>0.0</td>\n",
       "      <td>0.0</td>\n",
       "      <td>14.636611</td>\n",
       "    </tr>\n",
       "    <tr>\n",
       "      <th>1</th>\n",
       "      <td>10.000000</td>\n",
       "      <td>3.0</td>\n",
       "      <td>2.0</td>\n",
       "      <td>2.0</td>\n",
       "      <td>180.0</td>\n",
       "      <td>24514.0</td>\n",
       "      <td>3600000.0</td>\n",
       "      <td>2013</td>\n",
       "      <td>6</td>\n",
       "      <td>28</td>\n",
       "      <td>...</td>\n",
       "      <td>0</td>\n",
       "      <td>0</td>\n",
       "      <td>0</td>\n",
       "      <td>0</td>\n",
       "      <td>0</td>\n",
       "      <td>0</td>\n",
       "      <td>10.031497</td>\n",
       "      <td>0.0</td>\n",
       "      <td>2.0</td>\n",
       "      <td>15.096444</td>\n",
       "    </tr>\n",
       "    <tr>\n",
       "      <th>2</th>\n",
       "      <td>5.000000</td>\n",
       "      <td>3.0</td>\n",
       "      <td>2.0</td>\n",
       "      <td>2.0</td>\n",
       "      <td>166.0</td>\n",
       "      <td>48551.0</td>\n",
       "      <td>1200000.0</td>\n",
       "      <td>2015</td>\n",
       "      <td>10</td>\n",
       "      <td>17</td>\n",
       "      <td>...</td>\n",
       "      <td>0</td>\n",
       "      <td>0</td>\n",
       "      <td>0</td>\n",
       "      <td>0</td>\n",
       "      <td>0</td>\n",
       "      <td>0</td>\n",
       "      <td>9.014225</td>\n",
       "      <td>0.0</td>\n",
       "      <td>0.0</td>\n",
       "      <td>13.997832</td>\n",
       "    </tr>\n",
       "    <tr>\n",
       "      <th>3</th>\n",
       "      <td>1.000000</td>\n",
       "      <td>2.0</td>\n",
       "      <td>1.0</td>\n",
       "      <td>1.0</td>\n",
       "      <td>67.0</td>\n",
       "      <td>53666.0</td>\n",
       "      <td>650000.0</td>\n",
       "      <td>2012</td>\n",
       "      <td>3</td>\n",
       "      <td>9</td>\n",
       "      <td>...</td>\n",
       "      <td>0</td>\n",
       "      <td>0</td>\n",
       "      <td>0</td>\n",
       "      <td>0</td>\n",
       "      <td>0</td>\n",
       "      <td>0</td>\n",
       "      <td>9.085374</td>\n",
       "      <td>0.0</td>\n",
       "      <td>2.0</td>\n",
       "      <td>13.384728</td>\n",
       "    </tr>\n",
       "    <tr>\n",
       "      <th>4</th>\n",
       "      <td>10.000000</td>\n",
       "      <td>2.0</td>\n",
       "      <td>1.0</td>\n",
       "      <td>1.0</td>\n",
       "      <td>95.0</td>\n",
       "      <td>47835.0</td>\n",
       "      <td>1150000.0</td>\n",
       "      <td>2016</td>\n",
       "      <td>6</td>\n",
       "      <td>7</td>\n",
       "      <td>...</td>\n",
       "      <td>0</td>\n",
       "      <td>0</td>\n",
       "      <td>0</td>\n",
       "      <td>0</td>\n",
       "      <td>0</td>\n",
       "      <td>0</td>\n",
       "      <td>9.647836</td>\n",
       "      <td>0.0</td>\n",
       "      <td>0.0</td>\n",
       "      <td>13.955273</td>\n",
       "    </tr>\n",
       "  </tbody>\n",
       "</table>\n",
       "<p>5 rows × 36 columns</p>\n",
       "</div>"
      ],
      "text/plain": [
       "   antiguedad  habitaciones  garages  banos  metrostotales   idzona  \\\n",
       "0    8.116273           2.0      1.0    2.0           80.0  23533.0   \n",
       "1   10.000000           3.0      2.0    2.0          180.0  24514.0   \n",
       "2    5.000000           3.0      2.0    2.0          166.0  48551.0   \n",
       "3    1.000000           2.0      1.0    1.0           67.0  53666.0   \n",
       "4   10.000000           2.0      1.0    1.0           95.0  47835.0   \n",
       "\n",
       "      precio  anio  mes  dia  ...  cat_Quinta Vacacional  cat_Rancho  \\\n",
       "0  2273000.0  2015    8   23  ...                      0           0   \n",
       "1  3600000.0  2013    6   28  ...                      0           0   \n",
       "2  1200000.0  2015   10   17  ...                      0           0   \n",
       "3   650000.0  2012    3    9  ...                      0           0   \n",
       "4  1150000.0  2016    6    7  ...                      0           0   \n",
       "\n",
       "   cat_Terreno  cat_Terreno comercial  cat_Terreno industrial  cat_Villa  \\\n",
       "0            0                      0                       0          0   \n",
       "1            0                      0                       0          0   \n",
       "2            0                      0                       0          0   \n",
       "3            0                      0                       0          0   \n",
       "4            0                      0                       0          0   \n",
       "\n",
       "   ciudad_ordinal  suma_gimnasiousosmultiplespiscina  \\\n",
       "0       10.236050                                0.0   \n",
       "1       10.031497                                0.0   \n",
       "2        9.014225                                0.0   \n",
       "3        9.085374                                0.0   \n",
       "4        9.647836                                0.0   \n",
       "\n",
       "   suma_escuelascercanascentroscomercialescercanos  log_precio  \n",
       "0                                              0.0   14.636611  \n",
       "1                                              2.0   15.096444  \n",
       "2                                              0.0   13.997832  \n",
       "3                                              2.0   13.384728  \n",
       "4                                              0.0   13.955273  \n",
       "\n",
       "[5 rows x 36 columns]"
      ]
     },
     "execution_count": 16,
     "metadata": {},
     "output_type": "execute_result"
    }
   ],
   "source": [
    "df_train.head()"
   ]
  },
  {
   "cell_type": "code",
   "execution_count": null,
   "metadata": {},
   "outputs": [],
   "source": []
  }
 ],
 "metadata": {
  "kernelspec": {
   "display_name": "Python 3",
   "language": "python",
   "name": "python3"
  },
  "language_info": {
   "codemirror_mode": {
    "name": "ipython",
    "version": 3
   },
   "file_extension": ".py",
   "mimetype": "text/x-python",
   "name": "python",
   "nbconvert_exporter": "python",
   "pygments_lexer": "ipython3",
   "version": "3.6.8"
  }
 },
 "nbformat": 4,
 "nbformat_minor": 4
}
