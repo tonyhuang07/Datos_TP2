{
 "cells": [
  {
   "cell_type": "code",
   "execution_count": 1,
   "metadata": {},
   "outputs": [],
   "source": [
    "import numpy as np\n",
    "import pandas as pd\n",
    "import warnings\n",
    "warnings.filterwarnings('ignore')\n",
    "from sklearn import preprocessing\n",
    "from sklearn.model_selection import train_test_split\n",
    "from sklearn.preprocessing import StandardScaler\n",
    "from sklearn_pandas import DataFrameMapper, CategoricalImputer\n",
    "from sklearn.impute import SimpleImputer\n",
    "from sklearn.base import TransformerMixin\n"
   ]
  },
  {
   "cell_type": "markdown",
   "metadata": {},
   "source": [
    "Funciones auxiliares"
   ]
  },
  {
   "cell_type": "code",
   "execution_count": 2,
   "metadata": {},
   "outputs": [],
   "source": [
    "def leer_csv(ruta):\n",
    "    return pd.read_csv(ruta, dtype={\n",
    "    'tipodepropiedad':'category', 'ciudad':'category',\\\n",
    "    'provincia':'category'}, parse_dates=[16])\n",
    "\n",
    "# funcion para setear los superficies\n",
    "def set_metros(row):\n",
    "    total = row.metrostotales\n",
    "    covered = row.metroscubiertos\n",
    "    if np.isnan(total):\n",
    "        row.metrostotales = covered\n",
    "        return row\n",
    "    if np.isnan(covered):\n",
    "        row.metroscubiertos = total\n",
    "        return row\n",
    "    return row"
   ]
  },
  {
   "cell_type": "markdown",
   "metadata": {},
   "source": [
    "# Preprocessing "
   ]
  },
  {
   "cell_type": "markdown",
   "metadata": {},
   "source": [
    "Imputing Functions"
   ]
  },
  {
   "cell_type": "code",
   "execution_count": 3,
   "metadata": {},
   "outputs": [],
   "source": [
    "# define numerical imputer\n",
    "num_imputer = SimpleImputer(strategy='mean')\n",
    "\n",
    "class SeriesImputer(TransformerMixin):\n",
    "\n",
    "    def __init__(self):\n",
    "        \"\"\"Impute missing values.\n",
    "\n",
    "        If the Series is of dtype Category, then impute with the most frequent object.\n",
    "        \"\"\"\n",
    "    def fit(self, X, y=None):\n",
    "        self.fill = X.value_counts().index[0]\n",
    "        return self\n",
    "\n",
    "    def transform(self, X, y=None):\n",
    "        return X.fillna(self.fill)\n",
    "\n",
    "# define categorical imputer\n",
    "cat_imputer = SeriesImputer()\n",
    "\n",
    "def fill_valores(df, zeros, num_cols, cat_cols):\n",
    "    if zeros:\n",
    "        df[zeros] = df[zeros].fillna(value=0)\n",
    "    if num_cols:\n",
    "        df[num_cols] = num_imputer.fit_transform(df[num_cols])\n",
    "    if cat_cols:\n",
    "        for col in cat_cols:\n",
    "            df[col] = cat_imputer.fit_transform(df[col])\n",
    "    return df"
   ]
  },
  {
   "cell_type": "markdown",
   "metadata": {},
   "source": [
    "Encoding functions"
   ]
  },
  {
   "cell_type": "code",
   "execution_count": 4,
   "metadata": {},
   "outputs": [],
   "source": [
    "def one_hot_encoder(df, columnas):\n",
    "    for col in columnas:\n",
    "        df = pd.get_dummies(df, prefix = ['cat'], columns = [col])\n",
    "    return df"
   ]
  },
  {
   "cell_type": "markdown",
   "metadata": {},
   "source": [
    "Procesamiento de valores nulos"
   ]
  },
  {
   "cell_type": "code",
   "execution_count": 5,
   "metadata": {},
   "outputs": [],
   "source": [
    "def processing_nulos(df, zeros_cols, num_cols, cat_cols, eliminar_sin_tipo=False):\n",
    "    \n",
    "    # Metros cubiertos y totales\n",
    "    \n",
    "    df[['metrostotales', 'metroscubiertos']] = \\\n",
    "    df[['metrostotales', 'metroscubiertos']].apply(set_metros, axis = 1)\n",
    "    \n",
    "    # Imputando otras columnas\n",
    "    \n",
    "    df = fill_valores(df, zeros_cols, num_cols, cat_cols)\n",
    "    \n",
    "    return df"
   ]
  },
  {
   "cell_type": "markdown",
   "metadata": {},
   "source": [
    "Procesamiento de Fechas"
   ]
  },
  {
   "cell_type": "code",
   "execution_count": 6,
   "metadata": {},
   "outputs": [],
   "source": [
    "def processing_fechas(df, anio, mes, dia):\n",
    "    df['fecha'] = pd.to_datetime(df['fecha'])\n",
    "        \n",
    "    if anio:\n",
    "        df['anio'] = df['fecha'].dt.year\n",
    "    if mes:\n",
    "        df['mes'] = df['fecha'].dt.month\n",
    "    if dia:\n",
    "        df['dia'] = df['fecha'].dt.day\n",
    "    return df"
   ]
  },
  {
   "cell_type": "markdown",
   "metadata": {},
   "source": [
    "Función suma_columnas"
   ]
  },
  {
   "cell_type": "code",
   "execution_count": 7,
   "metadata": {},
   "outputs": [],
   "source": [
    "def suma_columnas(df, cols):\n",
    "    nombre = ''\n",
    "    for col in cols:\n",
    "        nombre = nombre + col\n",
    "    df['suma_'+nombre] = sum([df[col] for col in cols])\n",
    "    return df"
   ]
  },
  {
   "cell_type": "markdown",
   "metadata": {},
   "source": [
    "_____\n",
    "### Funcion de preprocessing"
   ]
  },
  {
   "cell_type": "code",
   "execution_count": 8,
   "metadata": {},
   "outputs": [],
   "source": [
    "def cambiar_valores(x):\n",
    "    i = 0\n",
    "    if x.name == 'precioporm2':\n",
    "        i+=1\n",
    "        return i\n",
    "    return x\n",
    "\n",
    "def encoder_idzona_ordinal(df_train, df_test): \n",
    "    \n",
    "    df_train['precioporm2'] = df_train['precio'] / df_train['metrostotales']\n",
    "\n",
    "    precio_m2_por_idzona = df_train.groupby('idzona').agg({'precioporm2' : 'mean'})\n",
    "    precio_m2_por_idzona.reset_index(inplace = True)\n",
    "    precio_m2_por_idzona = precio_m2_por_idzona.sort_values(by = 'precioporm2')\n",
    "\n",
    "    precio_m2_por_idzona = precio_m2_por_idzona.apply(cambiar_valores)\n",
    "    precio_m2_por_idzona['precioporm2'] = precio_m2_por_idzona['precioporm2'].cumsum()\n",
    "\n",
    "    orden_idzona = precio_m2_por_idzona.set_index('idzona').to_dict()\n",
    "    orden_idzona = orden_idzona['precioporm2']\n",
    "\n",
    "    df_train['idzona_ordinal'] = cat_imputer.fit_transform(df_train.idzona.map(orden_idzona))\n",
    "    df_test['idzona_ordinal'] = cat_imputer.fit_transform(df_test.idzona.map(orden_idzona))\n",
    "    \n",
    "    return df_train, df_test\n"
   ]
  },
  {
   "cell_type": "code",
   "execution_count": 11,
   "metadata": {},
   "outputs": [],
   "source": [
    "def encoder_ciudad_ordinal(df_train, df_test): \n",
    "    \n",
    "    df_train['precioporm2'] = df_train['precio'] / df_train['metrostotales']\n",
    "\n",
    "    precio_m2_por_ciudad = df_train.groupby('ciudad').agg({'precioporm2' : 'mean'})\n",
    "    precio_m2_por_ciudad.reset_index(inplace = True)\n",
    "    precio_m2_por_ciudad = precio_m2_por_ciudad.sort_values(by = 'precioporm2')\n",
    "\n",
    "    precio_m2_por_ciudad = precio_m2_por_ciudad.apply(cambiar_valores)\n",
    "    precio_m2_por_ciudad['precioporm2'] = precio_m2_por_ciudad['precioporm2'].cumsum()\n",
    "\n",
    "    orden_ciudad = precio_m2_por_ciudad.set_index('ciudad').to_dict()\n",
    "    orden_ciudad = orden_ciudad['precioporm2']\n",
    "\n",
    "    df_train['ciudad_ordinal'] = cat_imputer.fit_transform(df_train.ciudad.map(orden_ciudad))\n",
    "    df_test['ciudad_ordinal'] = cat_imputer.fit_transform(df_test.ciudad.map(orden_ciudad))\n",
    "    \n",
    "    return df_train, df_test"
   ]
  },
  {
   "cell_type": "code",
   "execution_count": 41,
   "metadata": {},
   "outputs": [],
   "source": [
    "def encoder_provincia_ordinal(df_train, df_test): \n",
    "    \n",
    "    df_train['precioporm2'] = df_train['precio'] / df_train['metrostotales']\n",
    "\n",
    "    precio_m2_por_provincia = df_train.groupby('provincia').agg({'precioporm2' : 'mean'})\n",
    "    precio_m2_por_provincia.reset_index(inplace = True)\n",
    "    precio_m2_por_provincia = precio_m2_por_provincia.sort_values(by = 'precioporm2')\n",
    "\n",
    "    precio_m2_por_provincia = precio_m2_por_provincia.apply(cambiar_valores)\n",
    "    precio_m2_por_provincia['precioporm2'] = precio_m2_por_provincia['precioporm2'].cumsum()\n",
    "\n",
    "    orden_provincia = precio_m2_por_provincia.set_index('provincia').to_dict()\n",
    "    orden_provincia = orden_provincia['precioporm2']\n",
    "\n",
    "    df_train['provincia_ordinal'] = cat_imputer.fit_transform(df_train.provincia.map(orden_provincia))\n",
    "    df_test['provincia_ordinal'] = cat_imputer.fit_transform(df_test.provincia.map(orden_provincia))\n",
    "    \n",
    "    return df_train, df_test"
   ]
  },
  {
   "cell_type": "code",
   "execution_count": 9,
   "metadata": {},
   "outputs": [],
   "source": [
    "def encoder_ciudad_por_precio_m2(df_train, df_test):\n",
    "    #filtrando los precios\n",
    "    #hay que eliminar los nulls primero\n",
    "    df_train['precioporm2'] = df_train['precio'] / df_train['metrostotales']\n",
    "    df_train_ciudad = df_train.groupby('ciudad').agg({'precioporm2':'mean'}).sort_values('precioporm2').reset_index()\n",
    "    #df_train_ciudad['precioporm2'] = np.log(df_train_ciudad['precioporm2'])\n",
    "    ciudad_log_precio = df_train_ciudad.set_index('ciudad').to_dict()['precioporm2']\n",
    "\n",
    "    df_test['ciudad_promedio_m2'] = cat_imputer.fit_transform(df_test.ciudad.map(ciudad_log_precio))\n",
    "    \n",
    "    df_train['ciudad_promedio_m2'] = cat_imputer.fit_transform(df_train.ciudad.map(ciudad_log_precio))\n",
    "    \n",
    "    return df_train, df_test"
   ]
  },
  {
   "cell_type": "code",
   "execution_count": 10,
   "metadata": {},
   "outputs": [],
   "source": [
    "def encoder_idzona_por_precio_m2(df_train, df_test):\n",
    "    #filtrando los precios\n",
    "    #hay que eliminar los nulls primero\n",
    "    df_train['precioporm2'] = df_train['precio'] / df_train['metrostotales']\n",
    "    df_train_idzona = df_train.groupby('idzona').agg({'precioporm2':'mean'}).sort_values('precioporm2').reset_index()\n",
    "    #df_train_idzona['precioporm2'] = np.log(df_train_idzona['precioporm2'])\n",
    "    idzona_log_precio = df_train_idzona.set_index('idzona').to_dict()['precioporm2']\n",
    "\n",
    "    df_test['idzona_promedio_m2'] = cat_imputer.fit_transform(df_test.idzona.map(idzona_log_precio))\n",
    "    \n",
    "    df_train['idzona_promedio_m2'] = cat_imputer.fit_transform(df_train.idzona.map(idzona_log_precio))\n",
    "    \n",
    "    return df_train, df_test"
   ]
  },
  {
   "cell_type": "code",
   "execution_count": 48,
   "metadata": {},
   "outputs": [],
   "source": [
    "def preprocessing(guardar_csv=False):\n",
    "    df_train = leer_csv('data/train.csv')\n",
    "    df_test  = leer_csv('data/test.csv')\n",
    "    \n",
    "    df_train = df_train[(df_train['tipodepropiedad'] != 'Hospedaje')&\\\n",
    "                        (df_train['tipodepropiedad'] != 'Garage')]\n",
    "    \n",
    "    ## Fechas\n",
    "    \n",
    "    df_train = processing_fechas(df_train, True, True, True)\n",
    "    df_test = processing_fechas(df_test, True, True, True)\n",
    "    \n",
    "    ## Nulos\n",
    "    \n",
    "    zeros_cols_train = None\n",
    "    num_cols_train = ['antiguedad', 'habitaciones', 'banos', 'garages']\n",
    "    cat_cols_train = ['ciudad', 'tipodepropiedad']\n",
    "    \n",
    "    zeros_cols_test = None\n",
    "    num_cols_test = ['antiguedad', 'habitaciones', 'banos', 'garages']\n",
    "    cat_cols_test = ['ciudad', 'tipodepropiedad']\n",
    "    \n",
    "    df_train = processing_nulos(df_train, zeros_cols_train, num_cols_train, cat_cols_train, eliminar_sin_tipo=True)\n",
    "    df_test = processing_nulos(df_test, zeros_cols_test, num_cols_test, cat_cols_test)\n",
    "    \n",
    "    ## Encoding de variables categóricas\n",
    "    \n",
    "    # One Hot encoding para 'tipo de propiedad'\n",
    "    df_train['tipodepropiedad'].cat.remove_unused_categories()\n",
    "    df_train = one_hot_encoder(df_train, ['tipodepropiedad'])\n",
    "    df_test = one_hot_encoder(df_test, ['tipodepropiedad'])\n",
    "    \n",
    "    # Encoding por precio promedio por m2 de las ciudades\n",
    "    \n",
    "    df_train, df_test = encoder_ciudad_por_precio_m2(df_train, df_test)\n",
    "    df_train, df_test = encoder_idzona_por_precio_m2(df_train, df_test)\n",
    "    \n",
    "    # Encoding ordinal de idzona y ciudad\n",
    "    \n",
    "    df_train, df_test = encoder_idzona_ordinal(df_train, df_test)\n",
    "    df_train, df_test = encoder_ciudad_ordinal(df_train, df_test)   \n",
    "    df_train, df_test = encoder_provincia_ordinal(df_train, df_test)   \n",
    "    \n",
    "    \n",
    "    ## Otras Features\n",
    "    \n",
    "    \n",
    "    # 'cant_extras' = 'gimnasio'+'usosmultiples'+'piscina'\n",
    "    extras = ['gimnasio', 'usosmultiples', 'piscina']\n",
    "    df_train = suma_columnas(df_train, extras)\n",
    "    df_test = suma_columnas(df_test, extras)\n",
    "    \n",
    "    # 'cant_cercanos' = 'escuelascercanas'+'centroscomercialescercanos'\n",
    "    cercanos = ['escuelascercanas', 'centroscomercialescercanos']\n",
    "    df_train = suma_columnas(df_train, cercanos)\n",
    "    df_test = suma_columnas(df_test, cercanos)\n",
    "    \n",
    "    \n",
    "    ## Eliminamos columnas no utilizadas\n",
    "    df_train.drop(columns=['fecha', 'id', 'titulo', 'descripcion','direccion',\\\n",
    "                           'lat', 'lng', 'provincia','ciudad','gimnasio','usosmultiples',\\\n",
    "                           'escuelascercanas','centroscomercialescercanos',\\\n",
    "                           'precioporm2', 'cat_Garage', 'cat_Hospedaje'], inplace=True)\n",
    "    df_test.drop(columns=['fecha', 'id', 'titulo', 'descripcion', 'direccion',\\\n",
    "                          'lat', 'lng','provincia', 'ciudad','gimnasio','usosmultiples',\\\n",
    "                          'escuelascercanas','centroscomercialescercanos',\\\n",
    "                          ], inplace=True)\n",
    "    \n",
    "    ## Agregamos columna con log(precio)\n",
    "    df_train['log_precio'] = np.log(df_train['precio'])\n",
    "    \n",
    "    if guardar_csv:\n",
    "        df_train.to_csv('data/train_preproc.csv', index = False)\n",
    "        df_test.to_csv('data/test_preproc.csv', index = False)\n",
    "    return df_train, df_test"
   ]
  },
  {
   "cell_type": "code",
   "execution_count": 49,
   "metadata": {},
   "outputs": [],
   "source": [
    "df_train, df_test = preprocessing(guardar_csv=True)"
   ]
  },
  {
   "cell_type": "code",
   "execution_count": 28,
   "metadata": {},
   "outputs": [
    {
     "data": {
      "text/plain": [
       "40"
      ]
     },
     "execution_count": 28,
     "metadata": {},
     "output_type": "execute_result"
    }
   ],
   "source": [
    "# tiene 2 columnas más: precio y log_precio\n",
    "df_train.columns.nunique()"
   ]
  },
  {
   "cell_type": "code",
   "execution_count": 29,
   "metadata": {},
   "outputs": [
    {
     "data": {
      "text/plain": [
       "38"
      ]
     },
     "execution_count": 29,
     "metadata": {},
     "output_type": "execute_result"
    }
   ],
   "source": [
    "df_test.columns.nunique()"
   ]
  },
  {
   "cell_type": "code",
   "execution_count": 30,
   "metadata": {},
   "outputs": [
    {
     "data": {
      "text/plain": [
       "antiguedad                                            0\n",
       "habitaciones                                          0\n",
       "garages                                               0\n",
       "banos                                                 0\n",
       "metroscubiertos                                       0\n",
       "metrostotales                                         0\n",
       "idzona                                             7179\n",
       "anio                                                  0\n",
       "mes                                                   0\n",
       "dia                                                   0\n",
       "cat_Apartamento                                       0\n",
       "cat_Bodega comercial                                  0\n",
       "cat_Casa                                              0\n",
       "cat_Casa en condominio                                0\n",
       "cat_Casa uso de suelo                                 0\n",
       "cat_Departamento Compartido                           0\n",
       "cat_Duplex                                            0\n",
       "cat_Edificio                                          0\n",
       "cat_Inmuebles productivos urbanos                     0\n",
       "cat_Local Comercial                                   0\n",
       "cat_Local en centro comercial                         0\n",
       "cat_Nave industrial                                   0\n",
       "cat_Oficina comercial                                 0\n",
       "cat_Otros                                             0\n",
       "cat_Quinta Vacacional                                 0\n",
       "cat_Rancho                                            0\n",
       "cat_Terreno                                           0\n",
       "cat_Terreno comercial                                 0\n",
       "cat_Terreno industrial                                0\n",
       "cat_Villa                                             0\n",
       "cat_Huerta                                            0\n",
       "cat_Lote                                              0\n",
       "ciudad_promedio_m2                                    0\n",
       "idzona_promedio_m2                                    0\n",
       "idzona_ordinal                                        0\n",
       "ciudad_ordinal                                        0\n",
       "suma_gimnasiousosmultiplespiscina                     0\n",
       "suma_escuelascercanascentroscomercialescercanos       0\n",
       "dtype: int64"
      ]
     },
     "execution_count": 30,
     "metadata": {},
     "output_type": "execute_result"
    }
   ],
   "source": [
    "df_test.isnull().sum()"
   ]
  },
  {
   "cell_type": "code",
   "execution_count": 32,
   "metadata": {},
   "outputs": [
    {
     "data": {
      "text/plain": [
       "antiguedad                                             0\n",
       "habitaciones                                           0\n",
       "garages                                                0\n",
       "banos                                                  0\n",
       "metroscubiertos                                        0\n",
       "metrostotales                                          0\n",
       "idzona                                             28579\n",
       "precio                                                 0\n",
       "anio                                                   0\n",
       "mes                                                    0\n",
       "dia                                                    0\n",
       "cat_Apartamento                                        0\n",
       "cat_Bodega comercial                                   0\n",
       "cat_Casa                                               0\n",
       "cat_Casa en condominio                                 0\n",
       "cat_Casa uso de suelo                                  0\n",
       "cat_Departamento Compartido                            0\n",
       "cat_Duplex                                             0\n",
       "cat_Edificio                                           0\n",
       "cat_Huerta                                             0\n",
       "cat_Inmuebles productivos urbanos                      0\n",
       "cat_Local Comercial                                    0\n",
       "cat_Local en centro comercial                          0\n",
       "cat_Lote                                               0\n",
       "cat_Nave industrial                                    0\n",
       "cat_Oficina comercial                                  0\n",
       "cat_Otros                                              0\n",
       "cat_Quinta Vacacional                                  0\n",
       "cat_Rancho                                             0\n",
       "cat_Terreno                                            0\n",
       "cat_Terreno comercial                                  0\n",
       "cat_Terreno industrial                                 0\n",
       "cat_Villa                                              0\n",
       "ciudad_promedio_m2                                     0\n",
       "idzona_promedio_m2                                     0\n",
       "idzona_ordinal                                         0\n",
       "ciudad_ordinal                                         0\n",
       "suma_gimnasiousosmultiplespiscina                      0\n",
       "suma_escuelascercanascentroscomercialescercanos        0\n",
       "log_precio                                             0\n",
       "dtype: int64"
      ]
     },
     "execution_count": 32,
     "metadata": {},
     "output_type": "execute_result"
    }
   ],
   "source": [
    "df_train.isnull().sum()"
   ]
  },
  {
   "cell_type": "code",
   "execution_count": 51,
   "metadata": {},
   "outputs": [
    {
     "data": {
      "text/plain": [
       "Index(['antiguedad', 'habitaciones', 'garages', 'banos', 'metroscubiertos',\n",
       "       'metrostotales', 'idzona', 'piscina', 'precio', 'anio', 'mes', 'dia',\n",
       "       'cat_Apartamento', 'cat_Bodega comercial', 'cat_Casa',\n",
       "       'cat_Casa en condominio', 'cat_Casa uso de suelo',\n",
       "       'cat_Departamento Compartido', 'cat_Duplex', 'cat_Edificio',\n",
       "       'cat_Huerta', 'cat_Inmuebles productivos urbanos',\n",
       "       'cat_Local Comercial', 'cat_Local en centro comercial', 'cat_Lote',\n",
       "       'cat_Nave industrial', 'cat_Oficina comercial', 'cat_Otros',\n",
       "       'cat_Quinta Vacacional', 'cat_Rancho', 'cat_Terreno',\n",
       "       'cat_Terreno comercial', 'cat_Terreno industrial', 'cat_Villa',\n",
       "       'ciudad_promedio_m2', 'idzona_promedio_m2', 'idzona_ordinal',\n",
       "       'ciudad_ordinal', 'provincia_ordinal',\n",
       "       'suma_gimnasiousosmultiplespiscina',\n",
       "       'suma_escuelascercanascentroscomercialescercanos', 'log_precio'],\n",
       "      dtype='object')"
      ]
     },
     "execution_count": 51,
     "metadata": {},
     "output_type": "execute_result"
    }
   ],
   "source": [
    "df_train.columns"
   ]
  },
  {
   "cell_type": "code",
   "execution_count": 52,
   "metadata": {},
   "outputs": [
    {
     "data": {
      "text/plain": [
       "Index(['antiguedad', 'habitaciones', 'garages', 'banos', 'metroscubiertos',\n",
       "       'metrostotales', 'idzona', 'piscina', 'anio', 'mes', 'dia',\n",
       "       'cat_Apartamento', 'cat_Bodega comercial', 'cat_Casa',\n",
       "       'cat_Casa en condominio', 'cat_Casa uso de suelo',\n",
       "       'cat_Departamento Compartido', 'cat_Duplex', 'cat_Edificio',\n",
       "       'cat_Inmuebles productivos urbanos', 'cat_Local Comercial',\n",
       "       'cat_Local en centro comercial', 'cat_Nave industrial',\n",
       "       'cat_Oficina comercial', 'cat_Otros', 'cat_Quinta Vacacional',\n",
       "       'cat_Rancho', 'cat_Terreno', 'cat_Terreno comercial',\n",
       "       'cat_Terreno industrial', 'cat_Villa', 'cat_Huerta', 'cat_Lote',\n",
       "       'ciudad_promedio_m2', 'idzona_promedio_m2', 'idzona_ordinal',\n",
       "       'ciudad_ordinal', 'provincia_ordinal',\n",
       "       'suma_gimnasiousosmultiplespiscina',\n",
       "       'suma_escuelascercanascentroscomercialescercanos'],\n",
       "      dtype='object')"
      ]
     },
     "execution_count": 52,
     "metadata": {},
     "output_type": "execute_result"
    }
   ],
   "source": [
    "df_test.columns"
   ]
  },
  {
   "cell_type": "code",
   "execution_count": 24,
   "metadata": {},
   "outputs": [],
   "source": [
    "df_original = leer_csv('data/train.csv')"
   ]
  },
  {
   "cell_type": "code",
   "execution_count": 25,
   "metadata": {},
   "outputs": [
    {
     "data": {
      "text/plain": [
       "Index(['id', 'titulo', 'descripcion', 'tipodepropiedad', 'direccion', 'ciudad',\n",
       "       'provincia', 'antiguedad', 'habitaciones', 'garages', 'banos',\n",
       "       'metroscubiertos', 'metrostotales', 'idzona', 'lat', 'lng', 'fecha',\n",
       "       'gimnasio', 'usosmultiples', 'piscina', 'escuelascercanas',\n",
       "       'centroscomercialescercanos', 'precio'],\n",
       "      dtype='object')"
      ]
     },
     "execution_count": 25,
     "metadata": {},
     "output_type": "execute_result"
    }
   ],
   "source": [
    "df_original.columns"
   ]
  },
  {
   "cell_type": "code",
   "execution_count": null,
   "metadata": {},
   "outputs": [],
   "source": []
  }
 ],
 "metadata": {
  "kernelspec": {
   "display_name": "Python 3",
   "language": "python",
   "name": "python3"
  },
  "language_info": {
   "codemirror_mode": {
    "name": "ipython",
    "version": 3
   },
   "file_extension": ".py",
   "mimetype": "text/x-python",
   "name": "python",
   "nbconvert_exporter": "python",
   "pygments_lexer": "ipython3",
   "version": "3.6.8"
  }
 },
 "nbformat": 4,
 "nbformat_minor": 4
}
