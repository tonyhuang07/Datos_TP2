{
 "cells": [
  {
   "cell_type": "code",
   "execution_count": 1,
   "metadata": {},
   "outputs": [],
   "source": [
    "import numpy as np\n",
    "import pandas as pd\n",
    "import warnings\n",
    "warnings.filterwarnings('ignore')\n",
    "from sklearn import preprocessing\n",
    "from sklearn.model_selection import train_test_split\n",
    "from sklearn.preprocessing import StandardScaler\n",
    "from sklearn_pandas import DataFrameMapper, CategoricalImputer\n",
    "from sklearn.impute import SimpleImputer\n",
    "from sklearn.base import TransformerMixin\n"
   ]
  },
  {
   "cell_type": "markdown",
   "metadata": {},
   "source": [
    "Funciones auxiliares"
   ]
  },
  {
   "cell_type": "code",
   "execution_count": 2,
   "metadata": {},
   "outputs": [],
   "source": [
    "def leer_csv(ruta):\n",
    "    return pd.read_csv(ruta, dtype={\n",
    "    'tipodepropiedad':'category', 'ciudad':'category',\\\n",
    "    'provincia':'category'}, parse_dates=[16])\n",
    "\n",
    "# funcion para setear los superficies\n",
    "def set_metros(row):\n",
    "    total = row.metrostotales\n",
    "    covered = row.metroscubiertos\n",
    "    if np.isnan(total):\n",
    "        row.metrostotales = covered\n",
    "        return row\n",
    "    if np.isnan(covered):\n",
    "        row.metroscubiertos = total\n",
    "        return row\n",
    "    return row\n",
    "\n",
    "def set_importancia_palabra(row):\n",
    "    titulo = row.titulo\n",
    "    descripcion = row.descripcion\n",
    "    palabra_importante = ['roof garden', 'doble altura', 'sala tv', \\\n",
    "                          'lugares estacionamiento','cajones estacionamiento',\\\n",
    "                            'family room','double altura','salón juego','ideal para',\\\n",
    "                          'amplios espacio', 'independiente', 'casa condominio',\\\n",
    "                          'salón juego', 'pisos madera','exclusivo']\n",
    "    for palabra in palabra_importante:\n",
    "        if palabra in titulo:\n",
    "            row.importancia_palabra += 1\n",
    "        if palabra in descripcion:\n",
    "            row.importancia_palabra += 1\n",
    "    return row"
   ]
  },
  {
   "cell_type": "markdown",
   "metadata": {},
   "source": [
    "# Preprocessing "
   ]
  },
  {
   "cell_type": "code",
   "execution_count": 8,
   "metadata": {},
   "outputs": [],
   "source": [
    "#procesar los textos importantes\n",
    "def encoder_texto_importante(df_train, df_test):\n",
    "    df_train['descripcion'] = df_train['descripcion'].map(str)\n",
    "    df_train['titulo'] = df_train['titulo'].map(str)\n",
    "    df_train['importancia_palabra'] = 0\n",
    "    df_train[['titulo','descripcion','importancia_palabra']] = \\\n",
    "    df_train[['titulo','descripcion','importancia_palabra']].apply(set_importancia_palabra,axis = 1)\n",
    "    \n",
    "    df_test['descripcion'] = df_test['descripcion'].map(str)\n",
    "    df_test['titulo'] = df_test['titulo'].map(str)\n",
    "    df_test['importancia_palabra'] = 0\n",
    "    df_test[['titulo','descripcion','importancia_palabra']] = \\\n",
    "    df_test[['titulo','descripcion','importancia_palabra']].apply(set_importancia_palabra,axis = 1)\n",
    "    \n",
    "    return df_train, df_test"
   ]
  },
  {
   "cell_type": "code",
   "execution_count": 9,
   "metadata": {},
   "outputs": [],
   "source": [
    "def cambiar_valores(x):\n",
    "    i = 0\n",
    "    if x.name == 'precioporm2':\n",
    "        i+=1\n",
    "        return i\n",
    "    return x\n",
    "\n",
    "def encoder_ordinal_cols(df_train, df_test, cols):\n",
    "    \n",
    "    for col in cols:\n",
    "        precio_m2_por_col = df_train.groupby(col).agg({'precioporm2' : 'mean'})\n",
    "        precio_m2_por_col.reset_index(inplace = True)\n",
    "        precio_m2_por_col = precio_m2_por_col.sort_values(by = 'precioporm2')\n",
    "\n",
    "        precio_m2_por_col = precio_m2_por_col.apply(cambiar_valores)\n",
    "        precio_m2_por_col['precioporm2'] = precio_m2_por_col['precioporm2'].cumsum()\n",
    "\n",
    "        orden_col = precio_m2_por_col.set_index(col).to_dict()\n",
    "        orden_col = orden_col['precioporm2']\n",
    "\n",
    "        df_train[col+'_ordinal'] = df_train[col].map(orden_col)\n",
    "        df_test[col+'_ordinal'] = df_test[col].map(orden_col)\n",
    "        \n",
    "    df_train, df_test = cat_imputer_columnas(df_train, df_test, [col+'_ordinal' for col in cols])\n",
    "    \n",
    "    return df_train, df_test"
   ]
  },
  {
   "cell_type": "code",
   "execution_count": 10,
   "metadata": {},
   "outputs": [],
   "source": [
    "    \n",
    "def encoder_idzona_ordinal(df_train, df_test): \n",
    "    \n",
    "    df_train['precioporm2'] = df_train['precio'] / df_train['metrostotales']\n",
    "\n",
    "    precio_m2_por_idzona = df_train.groupby('idzona').agg({'precioporm2' : 'mean'})\n",
    "    precio_m2_por_idzona.reset_index(inplace = True)\n",
    "    precio_m2_por_idzona = precio_m2_por_idzona.sort_values(by = 'precioporm2')\n",
    "\n",
    "    precio_m2_por_idzona = precio_m2_por_idzona.apply(cambiar_valores)\n",
    "    precio_m2_por_idzona['precioporm2'] = precio_m2_por_idzona['precioporm2'].cumsum()\n",
    "\n",
    "    orden_idzona = precio_m2_por_idzona.set_index('idzona').to_dict()\n",
    "    orden_idzona = orden_idzona['precioporm2']\n",
    "\n",
    "    df_train['idzona_ordinal'] = cat_imputer.fit_transform(df_train.idzona.map(orden_idzona))\n",
    "    df_test['idzona_ordinal'] = cat_imputer.fit_transform(df_test.idzona.map(orden_idzona))\n",
    "    \n",
    "    return df_train, df_test"
   ]
  },
  {
   "cell_type": "code",
   "execution_count": 11,
   "metadata": {},
   "outputs": [],
   "source": [
    "def encoder_ciudad_ordinal(df_train, df_test): \n",
    "    \n",
    "    df_train['precioporm2'] = df_train['precio'] / df_train['metrostotales']\n",
    "\n",
    "    precio_m2_por_ciudad = df_train.groupby('ciudad').agg({'precioporm2' : 'mean'})\n",
    "    precio_m2_por_ciudad.reset_index(inplace = True)\n",
    "    precio_m2_por_ciudad = precio_m2_por_ciudad.sort_values(by = 'precioporm2')\n",
    "\n",
    "    precio_m2_por_ciudad = precio_m2_por_ciudad.apply(cambiar_valores)\n",
    "    precio_m2_por_ciudad['precioporm2'] = precio_m2_por_ciudad['precioporm2'].cumsum()\n",
    "\n",
    "    orden_ciudad = precio_m2_por_ciudad.set_index('ciudad').to_dict()\n",
    "    orden_ciudad = orden_ciudad['precioporm2']\n",
    "\n",
    "    df_train['ciudad_ordinal'] = df_train.ciudad.map(orden_ciudad)\n",
    "    df_test['ciudad_ordinal'] = df_test.ciudad.map(orden_ciudad)\n",
    "    \n",
    "    df_train, df_test = cat_imputer_columnas(df_train, df_test, ['ciudad_ordinal'])\n",
    "    \n",
    "    return df_train, df_test"
   ]
  },
  {
   "cell_type": "code",
   "execution_count": 12,
   "metadata": {},
   "outputs": [],
   "source": [
    "def encoder_provincia_ordinal(df_train, df_test): \n",
    "    \n",
    "    df_train['precioporm2'] = df_train['precio'] / df_train['metrostotales']\n",
    "\n",
    "    precio_m2_por_provincia = df_train.groupby('provincia').agg({'precioporm2' : 'mean'})\n",
    "    precio_m2_por_provincia.reset_index(inplace = True)\n",
    "    precio_m2_por_provincia = precio_m2_por_provincia.sort_values(by = 'precioporm2')\n",
    "\n",
    "    precio_m2_por_provincia = precio_m2_por_provincia.apply(cambiar_valores)\n",
    "    precio_m2_por_provincia['precioporm2'] = precio_m2_por_provincia['precioporm2'].cumsum()\n",
    "\n",
    "    orden_provincia = precio_m2_por_provincia.set_index('provincia').to_dict()\n",
    "    orden_provincia = orden_provincia['precioporm2']\n",
    "    \n",
    "    df_train['provincia_ordinal'] = df_train.provincia.map(orden_provincia)\n",
    "    df_test['provincia_ordinal'] = df_test.provincia.map(orden_provincia)\n",
    "    \n",
    "    df_train, df_test = cat_imputer_columnas(df_train, df_test, ['provincia_ordinal'])\n",
    "    \n",
    "    return df_train, df_test"
   ]
  },
  {
   "cell_type": "code",
   "execution_count": 13,
   "metadata": {},
   "outputs": [],
   "source": [
    "def encoder_por_precio_m2_cols(df_train, df_test, cols):\n",
    "    \n",
    "    for col in cols:\n",
    "        df_train_col = df_train.groupby(col).agg({'precioporm2':'mean'}).sort_values('precioporm2').reset_index()\n",
    "        #df_train_col['precioporm2'] = np.log(df_train_col['precioporm2'])\n",
    "        col_log_precio = df_train_col.set_index(col).to_dict()['precioporm2']\n",
    "\n",
    "        df_train[col+'_promedio_m2'] = df_train[col].map(col_log_precio)\n",
    "        df_test[col+'_promedio_m2'] = df_test[col].map(col_log_precio)\n",
    "\n",
    "    df_train, df_test = cat_imputer_columnas(df_train, df_test, [col+'_promedio_m2' for col in cols])\n",
    "    \n",
    "    return df_train, df_test"
   ]
  },
  {
   "cell_type": "code",
   "execution_count": 14,
   "metadata": {},
   "outputs": [],
   "source": [
    "def encoder_ciudad_por_precio_m2(df_train, df_test):\n",
    "    #filtrando los precios\n",
    "    #hay que eliminar los nulls primero\n",
    "    df_train['precioporm2'] = df_train['precio'] / df_train['metrostotales']\n",
    "    df_train_ciudad = df_train.groupby('ciudad').agg({'precioporm2':'mean'}).sort_values('precioporm2').reset_index()\n",
    "    #df_train_ciudad['precioporm2'] = np.log(df_train_ciudad['precioporm2'])\n",
    "    ciudad_log_precio = df_train_ciudad.set_index('ciudad').to_dict()['precioporm2']\n",
    "\n",
    "    df_train['ciudad_promedio_m2'] = df_train.ciudad.map(ciudad_log_precio)\n",
    "    df_test['ciudad_promedio_m2'] = df_test.ciudad.map(ciudad_log_precio)\n",
    "    \n",
    "    df_train, df_test = cat_imputer_columnas(df_train, df_test, ['ciudad_promedio_m2'])\n",
    "    \n",
    "    return df_train, df_test"
   ]
  },
  {
   "cell_type": "code",
   "execution_count": 15,
   "metadata": {},
   "outputs": [],
   "source": [
    "def encoder_idzona_por_precio_m2(df_train, df_test):\n",
    "    #filtrando los precios\n",
    "    #hay que eliminar los nulls primero\n",
    "    df_train['precioporm2'] = df_train['precio'] / df_train['metrostotales']\n",
    "    df_train_idzona = df_train.groupby('idzona').agg({'precioporm2':'mean'}).sort_values('precioporm2').reset_index()\n",
    "    #df_train_idzona['precioporm2'] = np.log(df_train_idzona['precioporm2'])\n",
    "    idzona_log_precio = df_train_idzona.set_index('idzona').to_dict()['precioporm2']\n",
    "\n",
    "    df_train['idzona_promedio_m2'] = df_train.idzona.map(idzona_log_precio)\n",
    "    df_test['idzona_promedio_m2'] = df_test.idzona.map(idzona_log_precio)\n",
    "    \n",
    "    df_train, df_test = cat_imputer_columnas(df_train, df_test, ['idzona_promedio_m2'])\n",
    "    \n",
    "    return df_train, df_test"
   ]
  },
  {
   "cell_type": "code",
   "execution_count": 16,
   "metadata": {},
   "outputs": [],
   "source": [
    "def encoder_posicion_por_precio_m2(df_train, df_test):\n",
    "    #modificar las lat y lon en una colunma\n",
    "    df_train['precioporm2'] = df_train['precio'] / df_train['metrostotales']\n",
    "    #modificar lat y lon\n",
    "    df_train['lat'] = df_train['lat'].apply(lambda x: round(x,2))    \n",
    "    df_train['lng'] = df_train['lng'].apply(lambda x: round(x,2))\n",
    "    df_test['lat'] = df_test['lat'].apply(lambda x: round(x,2))    \n",
    "    df_test['lng'] = df_test['lng'].apply(lambda x: round(x,2))\n",
    "    \n",
    "    #unir lat y lon como posicion\n",
    "    df_train['posicion'] = df_train['lat'].map(str) + df_train['lng'].map(str)\n",
    "    df_test['posicion'] = df_test['lat'].map(str) + df_test['lng'].map(str)\n",
    "    \n",
    "    df_train_posicion = df_train.groupby('posicion').agg({'precioporm2':'mean'}).sort_values('precioporm2').reset_index()\n",
    "    df_train_posicion = df_train_posicion[df_train_posicion.posicion != 'nannan']\n",
    "    #df_train_idzona['precioporm2'] = np.log(df_train_idzona['precioporm2'])\n",
    "    posicion_log_precio = df_train_posicion.set_index('posicion').to_dict()['precioporm2']\n",
    "\n",
    "    df_test['posicion_promedio_m2'] = df_test.posicion.map(posicion_log_precio)\n",
    "    df_train['posicion_promedio_m2'] = df_train.posicion.map(posicion_log_precio)\n",
    "    \n",
    "    return df_train, df_test"
   ]
  },
  {
   "cell_type": "code",
   "execution_count": 17,
   "metadata": {},
   "outputs": [],
   "source": [
    "def agregar_tiene_sup_descubierta(df_train, df_test):\n",
    "    df_train['tiene_sup_descubierta'] = (df_train['metrostotales'] > df_train['metroscubiertos']).astype('int')\n",
    "    df_test['tiene_sup_descubierta'] = (df_test['metrostotales'] > df_test['metroscubiertos']).astype('int')\n",
    "    return df_train, df_test"
   ]
  },
  {
   "cell_type": "code",
   "execution_count": 18,
   "metadata": {},
   "outputs": [],
   "source": [
    "def agregar_diferencia_metros_totales_y_cubiertos(df_train, df_test):\n",
    "    df_train['diff_metros_cubiertos_y_totales'] = abs(df_train['metrostotales'] - df_train['metroscubiertos'])\n",
    "    df_test['diff_metros_cubiertos_y_totales'] = abs(df_test['metrostotales'] - df_test['metroscubiertos'])\n",
    "    return df_train, df_test"
   ]
  },
  {
   "cell_type": "markdown",
   "metadata": {},
   "source": [
    "Imputing Functions"
   ]
  },
  {
   "cell_type": "code",
   "execution_count": 3,
   "metadata": {},
   "outputs": [],
   "source": [
    "# define numerical imputer\n",
    "num_imputer = SimpleImputer(strategy='mean')\n",
    "\n",
    "class SeriesImputer(TransformerMixin):\n",
    "\n",
    "    def __init__(self):\n",
    "        \"\"\"Impute missing values.\n",
    "\n",
    "        If the Series is of dtype Category, then impute with the most frequent object.\n",
    "        \"\"\"\n",
    "    def fit(self, X, y=None):\n",
    "        self.fill = X.value_counts().index[0]\n",
    "        return self\n",
    "\n",
    "    def transform(self, X, y=None):\n",
    "        return X.fillna(self.fill)\n",
    "\n",
    "# define categorical imputer\n",
    "cat_imputer = SeriesImputer()\n",
    "\n",
    "\n",
    "# imputer para variables numéricas\n",
    "\n",
    "def num_imputer_columnas(df_train, df_test, cols):\n",
    "    \n",
    "    df_conjunto = pd.concat([df_train[cols], df_test[cols]], ignore_index=True)\n",
    "    \n",
    "    num_imputer.fit(df_conjunto[cols])\n",
    "    df_train[cols] = num_imputer.transform(df_train[cols])\n",
    "    df_test[cols] = num_imputer.transform(df_test[cols])\n",
    "    \n",
    "    return df_train, df_test\n",
    "\n",
    "# imputer para variables categóricas\n",
    "\n",
    "def cat_imputer_columnas(df_train, df_test, cols):\n",
    "    \n",
    "    df_conjunto = pd.concat([df_train[cols], df_test[cols]], ignore_index=True)\n",
    "    \n",
    "    for col in cols:\n",
    "        cat_imputer.fit(df_conjunto[col])\n",
    "        df_train[col] = cat_imputer.transform(df_train[col])\n",
    "        df_test[col] = cat_imputer.transform(df_test[col])\n",
    "    \n",
    "    return df_train, df_test\n",
    "        \n"
   ]
  },
  {
   "cell_type": "markdown",
   "metadata": {},
   "source": [
    "Encoding functions"
   ]
  },
  {
   "cell_type": "code",
   "execution_count": 4,
   "metadata": {},
   "outputs": [],
   "source": [
    "def one_hot_encoder(df, columnas):\n",
    "    for col in columnas:\n",
    "        df = pd.get_dummies(df, prefix = ['cat'], columns = [col])\n",
    "    return df"
   ]
  },
  {
   "cell_type": "markdown",
   "metadata": {},
   "source": [
    "Procesamiento de Fechas"
   ]
  },
  {
   "cell_type": "code",
   "execution_count": 5,
   "metadata": {},
   "outputs": [],
   "source": [
    "def processing_fechas(df, anio, mes, dia):\n",
    "    df['fecha'] = pd.to_datetime(df['fecha'])\n",
    "        \n",
    "    if anio:\n",
    "        df['anio'] = df['fecha'].dt.year\n",
    "    if mes:\n",
    "        df['mes'] = df['fecha'].dt.month\n",
    "    if dia:\n",
    "        df['dia'] = df['fecha'].dt.day\n",
    "    return df"
   ]
  },
  {
   "cell_type": "markdown",
   "metadata": {},
   "source": [
    "Función suma_columnas"
   ]
  },
  {
   "cell_type": "code",
   "execution_count": 6,
   "metadata": {},
   "outputs": [],
   "source": [
    "def suma_columnas(df, cols):\n",
    "    nombre = ''\n",
    "    for col in cols:\n",
    "        nombre = nombre + col\n",
    "    df['suma_'+nombre] = sum([df[col] for col in cols])\n",
    "    return df"
   ]
  },
  {
   "cell_type": "markdown",
   "metadata": {},
   "source": [
    "Función para nulls lat y lon"
   ]
  },
  {
   "cell_type": "code",
   "execution_count": 7,
   "metadata": {},
   "outputs": [],
   "source": [
    "def procesar_nulos_lat_lon(df_train, df_test):\n",
    "    \n",
    "    df_conjunto = pd.concat([df_train[['idzona', 'lat', 'lng']], df_test[['idzona', 'lat', 'lng']]])\n",
    "\n",
    "    df_conjunto = df_conjunto.groupby('idzona')[['lat', 'lng']].apply(np.mean)\n",
    "\n",
    "    dict_lat = df_conjunto['lat'].to_dict()\n",
    "    dict_lng = df_conjunto['lng'].to_dict()\n",
    "\n",
    "    df_train['lat'] = df_train['lat'].fillna(value=df_train['idzona'].map(dict_lat))\n",
    "    df_train['lng'] = df_train['lng'].fillna(value=df_train['idzona'].map(dict_lng))\n",
    "    df_test['lat'] = df_test['lat'].fillna(value=df_test['idzona'].map(dict_lat))\n",
    "    df_test['lng'] = df_test['lng'].fillna(value=df_test['idzona'].map(dict_lng))\n",
    "    \n",
    "    return df_train, df_test"
   ]
  },
  {
   "cell_type": "markdown",
   "metadata": {},
   "source": [
    "_____\n",
    "### Funcion de preprocessing"
   ]
  },
  {
   "cell_type": "code",
   "execution_count": 60,
   "metadata": {},
   "outputs": [],
   "source": [
    "def preprocessing(guardar_csv=False):\n",
    "    df_train = leer_csv('data/train.csv')\n",
    "    df_test  = leer_csv('data/test.csv')\n",
    "    \n",
    "    df_train = df_train[(df_train['tipodepropiedad'] != 'Hospedaje')&\\\n",
    "                        (df_train['tipodepropiedad'] != 'Garage')]\n",
    "    \n",
    "    ## Fechas\n",
    "    \n",
    "    df_train = processing_fechas(df_train, True, True, True)\n",
    "    df_test = processing_fechas(df_test, True, True, True)\n",
    "    \n",
    "    ## Nulos\n",
    "    \n",
    "    # Metros cubiertos y totales\n",
    "    \n",
    "    df_train[['metrostotales', 'metroscubiertos']] = \\\n",
    "    df_train[['metrostotales', 'metroscubiertos']].apply(set_metros, axis = 1)\n",
    "    df_test[['metrostotales', 'metroscubiertos']] = \\\n",
    "    df_test[['metrostotales', 'metroscubiertos']].apply(set_metros, axis = 1)\n",
    "    \n",
    "    # Imputing de variables categoricas y numericas\n",
    "    \n",
    "    num_cols = ['antiguedad', 'habitaciones', 'banos', 'garages']\n",
    "    df_train, df_test = num_imputer_columnas(df_train, df_test, num_cols)\n",
    "    \n",
    "    cat_cols = ['ciudad', 'tipodepropiedad']\n",
    "    df_train, df_test = cat_imputer_columnas(df_train, df_test, cat_cols)\n",
    "    \n",
    "    # Nulos en id_zona\n",
    "    \n",
    "    df_train.idzona.fillna(inplace=True, value=-1)\n",
    "    df_test.idzona.fillna(inplace=True, value=-1)\n",
    "    \n",
    "    # Latitud y longitud\n",
    "    \n",
    "    df_train, df_test = procesar_nulos_lat_lon(df_train, df_test)\n",
    "    \n",
    "    ## Agregamos precio por m2 en train\n",
    "    \n",
    "    df_train['precioporm2'] = df_train['precio'] / df_train['metrostotales']\n",
    "    \n",
    "    ## Encoding de variables categóricas\n",
    "    \n",
    "    # One Hot encoding para 'tipo de propiedad'\n",
    "    df_train['tipodepropiedad'].cat.remove_unused_categories()\n",
    "    \n",
    "    antiguedad_train = df_train['antiguedad'] #Los guardo para agregarlos nuevamente luego del one hot encoding.\n",
    "    antiguedad_test = df_test['antiguedad']\n",
    "    df_test['antiguedad'] = df_test['antiguedad'].astype('category').cat.add_categories(new_categories = [63.0,64.0,66.0,71.0,74.0,75.0,77.0])\n",
    "    \n",
    "    df_train = one_hot_encoder(df_train, ['tipodepropiedad', 'antiguedad'])\n",
    "    df_test = one_hot_encoder(df_test, ['tipodepropiedad', 'antiguedad'])\n",
    "        \n",
    "    df_train['antiguedad'] = antiguedad_train\n",
    "    df_test['antiguedad'] = antiguedad_test\n",
    "    \n",
    "    #Encoding por textos\n",
    "    df_train, df_test = encoder_texto_importante(df_train, df_test)\n",
    "    \n",
    "    # Encoding por precio promedio por m2 de las ciudades\n",
    "    \n",
    "    df_train, df_test = encoder_por_precio_m2_cols(df_train, df_test, ['idzona', 'ciudad'])\n",
    "    df_train, df_test = encoder_posicion_por_precio_m2(df_train, df_test)\n",
    "\n",
    "    # Encoding ordinal \n",
    "    \n",
    "    df_train, df_test = encoder_ordinal_cols(df_train, df_test, ['idzona', 'ciudad', 'provincia'])\n",
    "    \n",
    "    ## Otras Features\n",
    "    \n",
    "    # 'cant_extras' = 'gimnasio'+'usosmultiples'+'piscina'\n",
    "    extras = ['gimnasio', 'usosmultiples', 'piscina']\n",
    "    df_train = suma_columnas(df_train, extras)\n",
    "    df_test = suma_columnas(df_test, extras)\n",
    "    \n",
    "    # 'cant_cercanos' = 'escuelascercanas'+'centroscomercialescercanos'\n",
    "    cercanos = ['escuelascercanas', 'centroscomercialescercanos']\n",
    "    df_train = suma_columnas(df_train, cercanos)\n",
    "    df_test = suma_columnas(df_test, cercanos)\n",
    "    \n",
    "    # 'tiene_sup_descubierta' = 1{'(metrostotales > metroscubiertos)'}\n",
    "    df_train, df_test = agregar_tiene_sup_descubierta(df_train, df_test)\n",
    "    \n",
    "    # 'diff_metros_totales_y_cubiertos' = abs(metrostotales - metroscubiertos)\n",
    "    df_train, df_test = agregar_diferencia_metros_totales_y_cubiertos(df_train, df_test)\n",
    "    \n",
    "    ## Eliminamos columnas no utilizadas\n",
    "    columnas_eliminar = ['fecha', 'id', 'titulo', 'descripcion', 'direccion',\\\n",
    "                          'lat', 'lng','posicion','provincia', 'ciudad','gimnasio','usosmultiples',\\\n",
    "                          'escuelascercanas','centroscomercialescercanos',\\\n",
    "                          'idzona_promedio_m2', 'ciudad_promedio_m2',\\\n",
    "                          'posicion_promedio_m2', 'tiene_sup_descubierta', \\\n",
    "                          'diff_metros_cubiertos_y_totales']\n",
    "    df_train.drop(columns=columnas_eliminar+['precioporm2', 'cat_Garage', 'cat_Hospedaje'], inplace=True)\n",
    "    df_test.drop(columns=columnas_eliminar, inplace=True)\n",
    "    \n",
    "    ## Agregamos columna con log(precio)\n",
    "    df_train['log_precio'] = np.log(df_train['precio'])\n",
    "    \n",
    "    if guardar_csv:\n",
    "        df_train.to_csv('data/train_preproc.csv', index = False)\n",
    "        df_test.to_csv('data/test_preproc.csv', index = False)\n",
    "    return df_train, df_test"
   ]
  },
  {
   "cell_type": "code",
   "execution_count": 61,
   "metadata": {},
   "outputs": [],
   "source": [
    "df_train, df_test = preprocessing(guardar_csv=True)"
   ]
  },
  {
   "cell_type": "code",
   "execution_count": 21,
   "metadata": {},
   "outputs": [
    {
     "data": {
      "text/plain": [
       "120"
      ]
     },
     "execution_count": 21,
     "metadata": {},
     "output_type": "execute_result"
    }
   ],
   "source": [
    "df_train.columns.nunique()"
   ]
  },
  {
   "cell_type": "code",
   "execution_count": 22,
   "metadata": {},
   "outputs": [
    {
     "data": {
      "text/plain": [
       "119"
      ]
     },
     "execution_count": 22,
     "metadata": {},
     "output_type": "execute_result"
    }
   ],
   "source": [
    "df_test.columns.nunique()"
   ]
  }
 ],
 "metadata": {
  "kernelspec": {
   "display_name": "Python 3",
   "language": "python",
   "name": "python3"
  },
  "language_info": {
   "codemirror_mode": {
    "name": "ipython",
    "version": 3
   },
   "file_extension": ".py",
   "mimetype": "text/x-python",
   "name": "python",
   "nbconvert_exporter": "python",
   "pygments_lexer": "ipython3",
   "version": "3.6.8"
  }
 },
 "nbformat": 4,
 "nbformat_minor": 4
}
