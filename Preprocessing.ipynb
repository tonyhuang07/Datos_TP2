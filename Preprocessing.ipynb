{
 "cells": [
  {
   "cell_type": "code",
   "execution_count": 1,
   "metadata": {},
   "outputs": [],
   "source": [
    "import numpy as np\n",
    "import pandas as pd\n",
    "import warnings\n",
    "warnings.filterwarnings('ignore')\n",
    "from sklearn import preprocessing\n",
    "from sklearn.model_selection import train_test_split\n",
    "from sklearn.preprocessing import StandardScaler\n",
    "from sklearn_pandas import DataFrameMapper, CategoricalImputer\n",
    "from sklearn.impute import SimpleImputer\n",
    "from sklearn.base import TransformerMixin\n"
   ]
  },
  {
   "cell_type": "markdown",
   "metadata": {},
   "source": [
    "Funciones auxiliares"
   ]
  },
  {
   "cell_type": "code",
   "execution_count": 2,
   "metadata": {},
   "outputs": [],
   "source": [
    "def leer_csv(ruta):\n",
    "    return pd.read_csv(ruta, dtype={\n",
    "    'tipodepropiedad':'category', 'ciudad':'category',\\\n",
    "    'provincia':'category'}, parse_dates=[16])\n",
    "\n",
    "# funcion para setear los superficies\n",
    "def set_metros(row):\n",
    "    total = row.metrostotales\n",
    "    covered = row.metroscubiertos\n",
    "    if np.isnan(total):\n",
    "        row.metrostotales = covered\n",
    "        return row\n",
    "    if np.isnan(covered):\n",
    "        row.metroscubiertos = total\n",
    "        return row\n",
    "    return row"
   ]
  },
  {
   "cell_type": "markdown",
   "metadata": {},
   "source": [
    "# Preprocessing "
   ]
  },
  {
   "cell_type": "markdown",
   "metadata": {},
   "source": [
    "Imputing Functions"
   ]
  },
  {
   "cell_type": "code",
   "execution_count": 3,
   "metadata": {},
   "outputs": [],
   "source": [
    "# define numerical imputer\n",
    "num_imputer = SimpleImputer(strategy='mean')\n",
    "\n",
    "class SeriesImputer(TransformerMixin):\n",
    "\n",
    "    def __init__(self):\n",
    "        \"\"\"Impute missing values.\n",
    "\n",
    "        If the Series is of dtype Object, then impute with the most frequent object.\n",
    "        If the Series is not of dtype Object, then impute with the mean.  \n",
    "\n",
    "        \"\"\"\n",
    "    def fit(self, X, y=None):\n",
    "        self.fill = X.value_counts().index[0]\n",
    "        return self\n",
    "\n",
    "    def transform(self, X, y=None):\n",
    "        return X.fillna(self.fill)\n",
    "\n",
    "# define categorical imputer\n",
    "cat_imputer = SeriesImputer()\n",
    "\n",
    "def fill_valores(df, zeros, num_cols, cat_cols):\n",
    "    df[zeros] = df[zeros].fillna(value=0)\n",
    "    \n",
    "    df[num_cols] = num_imputer.fit_transform(df[num_cols])\n",
    "    for col in cat_cols:\n",
    "        df[col] = cat_imputer.fit_transform(df[col])\n",
    "    return df"
   ]
  },
  {
   "cell_type": "markdown",
   "metadata": {},
   "source": [
    "Encoding functions"
   ]
  },
  {
   "cell_type": "code",
   "execution_count": 4,
   "metadata": {},
   "outputs": [],
   "source": [
    "def one_hot_encoder(df, columnas):\n",
    "    for col in columnas:\n",
    "        df = pd.get_dummies(df, prefix = ['cat'], columns = [col])\n",
    "    return df"
   ]
  },
  {
   "cell_type": "markdown",
   "metadata": {},
   "source": [
    "Procesamiento de valores nulos"
   ]
  },
  {
   "cell_type": "code",
   "execution_count": 5,
   "metadata": {},
   "outputs": [],
   "source": [
    "def processing_nulos(df, eliminar_sin_tipo=False):\n",
    "    \n",
    "    # Metros cubiertos y totales\n",
    "    \n",
    "    df[['metrostotales', 'metroscubiertos']] = \\\n",
    "    df[['metrostotales', 'metroscubiertos']].apply(set_metros, axis = 1)\n",
    "    \n",
    "    # Imputando otras columnas\n",
    "    \n",
    "    zeros_cols = ['garages']\n",
    "    num_cols = ['antiguedad', 'habitaciones', 'banos', 'idzona']\n",
    "    cat_cols = ['ciudad', 'provincia']\n",
    "    \n",
    "    df = fill_valores(df, zeros_cols, num_cols, cat_cols)\n",
    "    \n",
    "    return df"
   ]
  },
  {
   "cell_type": "markdown",
   "metadata": {},
   "source": [
    "Procesamiento de Fechas"
   ]
  },
  {
   "cell_type": "code",
   "execution_count": 6,
   "metadata": {},
   "outputs": [],
   "source": [
    "def processing_fechas(df, anio, mes, dia):\n",
    "    df['fecha'] = pd.to_datetime(df['fecha'])\n",
    "        \n",
    "    if anio:\n",
    "        df['anio'] = df['fecha'].dt.year\n",
    "    if mes:\n",
    "        df['mes'] = df['fecha'].dt.month\n",
    "    if dia:\n",
    "        df['dia'] = df['fecha'].dt.day\n",
    "    return df"
   ]
  },
  {
   "cell_type": "markdown",
   "metadata": {},
   "source": [
    "Función suma_columnas"
   ]
  },
  {
   "cell_type": "code",
   "execution_count": 7,
   "metadata": {},
   "outputs": [],
   "source": [
    "def suma_columnas(df, cols):\n",
    "    df['suma_'+str(cols)] = sum([df[col] for col in cols])\n",
    "    return df"
   ]
  },
  {
   "cell_type": "markdown",
   "metadata": {},
   "source": [
    "_____\n",
    "### Funcion de preprocessing"
   ]
  },
  {
   "cell_type": "code",
   "execution_count": 8,
   "metadata": {},
   "outputs": [],
   "source": [
    "def cambiar_valores(x):\n",
    "    i = 0\n",
    "    if x.name == 'precioporm2':\n",
    "        i+=1\n",
    "        return i\n",
    "    return x\n",
    "\n",
    "def encoder_idzona(df_train, df_test): \n",
    "    \n",
    "    df_train['precioporm2'] = df_train['precio'] / df_train['metrostotales']\n",
    "\n",
    "    precio_m2_por_idzona = df_train.groupby('idzona').agg({'precioporm2' : 'mean'})\n",
    "    precio_m2_por_idzona.reset_index(inplace = True)\n",
    "    precio_m2_por_idzona = precio_m2_por_idzona.sort_values(by = 'precioporm2')\n",
    "\n",
    "    precio_m2_por_idzona = precio_m2_por_idzona.apply(cambiar_valores)\n",
    "    precio_m2_por_idzona['precioporm2'] = precio_m2_por_idzona['precioporm2'].cumsum()\n",
    "\n",
    "    orden_idzona = precio_m2_por_idzona.set_index('idzona').to_dict()\n",
    "    orden_idzona = orden_idzona['precioporm2']\n",
    "\n",
    "    df_train['idzona_ordinal'] = cat_imputer.fit_transform(df_train.idzona.map(orden_idzona))\n",
    "    df_test['idzona_ordinal'] = cat_imputer.fit_transform(df_test.idzona.map(orden_idzona))\n",
    "    \n",
    "    return df_train, df_test\n"
   ]
  },
  {
   "cell_type": "code",
   "execution_count": 20,
   "metadata": {},
   "outputs": [],
   "source": [
    "def encoder_ciudad(df_train, df_test):\n",
    "    #filtrando los precios\n",
    "    #hay que eliminar los nulls primero\n",
    "    df_train['precioporm2'] = df_train['precio'] / df_train['metrostotales']\n",
    "    df_train_ciudad = df_train.groupby('ciudad').agg({'precioporm2':'mean'}).sort_values('precioporm2').reset_index()\n",
    "    df_train_ciudad['precioporm2'] = np.log(df_train_ciudad['precioporm2'])\n",
    "    ciudad_log_precio = df_train_ciudad.set_index('ciudad').to_dict()['precioporm2']\n",
    "\n",
    "    df_test['ciudad_ordinal'] = cat_imputer.fit_transform(df_test.ciudad.map(ciudad_log_precio))\n",
    "    \n",
    "    df_train['ciudad_ordinal'] = cat_imputer.fit_transform(df_train.ciudad.map(ciudad_log_precio))\n",
    "    \n",
    "    return df_train, df_test"
   ]
  },
  {
   "cell_type": "code",
   "execution_count": 14,
   "metadata": {},
   "outputs": [],
   "source": [
    "def preprocessing(guardar_csv=False):\n",
    "    df_train = leer_csv('data/train.csv')\n",
    "    df_test  = leer_csv('data/test.csv')\n",
    "    \n",
    "    ## Fechas\n",
    "    \n",
    "    df_train = processing_fechas(df_train, True, True, True)\n",
    "    df_test = processing_fechas(df_test, True, True, True)\n",
    "    ## Nulos\n",
    "    \n",
    "    df_train = processing_nulos(df_train, eliminar_sin_tipo=True)\n",
    "    df_test = processing_nulos(df_test)\n",
    "    \n",
    "    ## Encoding de variables categóricas\n",
    "    \n",
    "    # One Hot encoding para 'tipo de propiedad'\n",
    "    df_train = df_train[(df_train['tipodepropiedad'] != 'Hospedaje')&\\\n",
    "                        (df_train['tipodepropiedad'] != 'Garage')]\n",
    "    df_train['tipodepropiedad'].cat.remove_unused_categories()\n",
    "    df_train = one_hot_encoder(df_train, ['tipodepropiedad'])\n",
    "    df_test = one_hot_encoder(df_test, ['tipodepropiedad'])\n",
    "    \n",
    "    # Encoding ordinal de las ciudades\n",
    "    \n",
    "    df_train, df_test = encoder_ciudad(df_train, df_test)\n",
    "    \n",
    "    ## Otras Features\n",
    "    \n",
    "    # 'cant_extras' = 'gimnasio'+'usosmultiples'+'piscina'\n",
    "    extras = ['gimnasio', 'usosmultiples', 'piscina']\n",
    "    df_train = suma_columnas(df_train, extras)\n",
    "    df_test = suma_columnas(df_test, extras)\n",
    "    \n",
    "    # 'cant_cercanos' = 'escuelascercanas'+'centroscomercialescercanos'\n",
    "    cercanos = ['escuelascercanas', 'centroscomercialescercanos']\n",
    "    df_train = suma_columnas(df_train, cercanos)\n",
    "    df_test = suma_columnas(df_test, cercanos)\n",
    "    \n",
    "    \n",
    "    ## Eliminamos columnas no utilizadas\n",
    "    df_train.drop(columns=['fecha', 'id', 'titulo', 'descripcion','direccion',\\\n",
    "                           'lat', 'lng', 'provincia','ciudad','gimnasio','usosmultiples',\\\n",
    "                           'piscina','escuelascercanas','centroscomercialescercanos',\\\n",
    "                           'metroscubiertos','precioporm2', 'cat_Garage', 'cat_Hospedaje'], inplace=True)\n",
    "    df_test.drop(columns=['fecha', 'id', 'titulo', 'descripcion', 'direccion',\\\n",
    "                          'lat', 'lng','provincia', 'ciudad','gimnasio','usosmultiples',\\\n",
    "                          'piscina','escuelascercanas','centroscomercialescercanos',\\\n",
    "                          'metroscubiertos'], inplace=True)\n",
    "    \n",
    "    ## Agregamos columna con log(precio)\n",
    "    df_train['log_precio'] = np.log(df_train['precio'])\n",
    "    \n",
    "    if guardar_csv:\n",
    "        df_train.to_csv('data/train_preproc.csv', index = False)\n",
    "        df_test.to_csv('data/test_preproc.csv', index = False)\n",
    "    return df_train, df_test"
   ]
  },
  {
   "cell_type": "code",
   "execution_count": 21,
   "metadata": {},
   "outputs": [],
   "source": [
    "df_train, df_test = preprocessing(guardar_csv=True)"
   ]
  },
  {
   "cell_type": "code",
   "execution_count": 22,
   "metadata": {},
   "outputs": [
    {
     "data": {
      "text/plain": [
       "36"
      ]
     },
     "execution_count": 22,
     "metadata": {},
     "output_type": "execute_result"
    }
   ],
   "source": [
    "# tiene 2 columnas más: precio y log_precio\n",
    "df_train.columns.nunique()"
   ]
  },
  {
   "cell_type": "code",
   "execution_count": 23,
   "metadata": {},
   "outputs": [
    {
     "data": {
      "text/plain": [
       "34"
      ]
     },
     "execution_count": 23,
     "metadata": {},
     "output_type": "execute_result"
    }
   ],
   "source": [
    "df_test.columns.nunique()"
   ]
  },
  {
   "cell_type": "code",
   "execution_count": 26,
   "metadata": {},
   "outputs": [
    {
     "data": {
      "text/plain": [
       "antiguedad                                                 0\n",
       "habitaciones                                               0\n",
       "garages                                                    0\n",
       "banos                                                      0\n",
       "metrostotales                                              0\n",
       "idzona                                                     0\n",
       "anio                                                       0\n",
       "mes                                                        0\n",
       "dia                                                        0\n",
       "cat_Apartamento                                            0\n",
       "cat_Bodega comercial                                       0\n",
       "cat_Casa                                                   0\n",
       "cat_Casa en condominio                                     0\n",
       "cat_Casa uso de suelo                                      0\n",
       "cat_Departamento Compartido                                0\n",
       "cat_Duplex                                                 0\n",
       "cat_Edificio                                               0\n",
       "cat_Inmuebles productivos urbanos                          0\n",
       "cat_Local Comercial                                        0\n",
       "cat_Local en centro comercial                              0\n",
       "cat_Nave industrial                                        0\n",
       "cat_Oficina comercial                                      0\n",
       "cat_Otros                                                  0\n",
       "cat_Quinta Vacacional                                      0\n",
       "cat_Rancho                                                 0\n",
       "cat_Terreno                                                0\n",
       "cat_Terreno comercial                                      0\n",
       "cat_Terreno industrial                                     0\n",
       "cat_Villa                                                  0\n",
       "cat_Huerta                                                 0\n",
       "cat_Lote                                                   0\n",
       "ciudad_ordinal                                             0\n",
       "suma_['gimnasio', 'usosmultiples', 'piscina']              0\n",
       "suma_['escuelascercanas', 'centroscomercialescercanos']    0\n",
       "dtype: int64"
      ]
     },
     "execution_count": 26,
     "metadata": {},
     "output_type": "execute_result"
    }
   ],
   "source": [
    "df_test.isnull().sum()"
   ]
  },
  {
   "cell_type": "code",
   "execution_count": 27,
   "metadata": {},
   "outputs": [
    {
     "data": {
      "text/plain": [
       "antiguedad                                                 0\n",
       "habitaciones                                               0\n",
       "garages                                                    0\n",
       "banos                                                      0\n",
       "metrostotales                                              0\n",
       "idzona                                                     0\n",
       "precio                                                     0\n",
       "anio                                                       0\n",
       "mes                                                        0\n",
       "dia                                                        0\n",
       "cat_Apartamento                                            0\n",
       "cat_Bodega comercial                                       0\n",
       "cat_Casa                                                   0\n",
       "cat_Casa en condominio                                     0\n",
       "cat_Casa uso de suelo                                      0\n",
       "cat_Departamento Compartido                                0\n",
       "cat_Duplex                                                 0\n",
       "cat_Edificio                                               0\n",
       "cat_Huerta                                                 0\n",
       "cat_Inmuebles productivos urbanos                          0\n",
       "cat_Local Comercial                                        0\n",
       "cat_Local en centro comercial                              0\n",
       "cat_Lote                                                   0\n",
       "cat_Nave industrial                                        0\n",
       "cat_Oficina comercial                                      0\n",
       "cat_Otros                                                  0\n",
       "cat_Quinta Vacacional                                      0\n",
       "cat_Rancho                                                 0\n",
       "cat_Terreno                                                0\n",
       "cat_Terreno comercial                                      0\n",
       "cat_Terreno industrial                                     0\n",
       "cat_Villa                                                  0\n",
       "ciudad_ordinal                                             0\n",
       "suma_['gimnasio', 'usosmultiples', 'piscina']              0\n",
       "suma_['escuelascercanas', 'centroscomercialescercanos']    0\n",
       "log_precio                                                 0\n",
       "dtype: int64"
      ]
     },
     "execution_count": 27,
     "metadata": {},
     "output_type": "execute_result"
    }
   ],
   "source": [
    "df_train.isnull().sum()"
   ]
  },
  {
   "cell_type": "code",
   "execution_count": null,
   "metadata": {},
   "outputs": [],
   "source": []
  }
 ],
 "metadata": {
  "kernelspec": {
   "display_name": "Python 3",
   "language": "python",
   "name": "python3"
  },
  "language_info": {
   "codemirror_mode": {
    "name": "ipython",
    "version": 3
   },
   "file_extension": ".py",
   "mimetype": "text/x-python",
   "name": "python",
   "nbconvert_exporter": "python",
   "pygments_lexer": "ipython3",
   "version": "3.6.8"
  }
 },
 "nbformat": 4,
 "nbformat_minor": 4
}
