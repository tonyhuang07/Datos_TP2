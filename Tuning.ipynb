{
 "cells": [
  {
   "cell_type": "code",
   "execution_count": 1,
   "metadata": {},
   "outputs": [],
   "source": [
    "import numpy as np\n",
    "import pandas as pd\n",
    "import warnings\n",
    "warnings.filterwarnings('ignore')\n",
    "from preprocessing import preprocessing\n",
    "from xgboost import XGBRegressor\n",
    "from sklearn.model_selection import train_test_split\n",
    "from sklearn.metrics import mean_absolute_error\n",
    "from sklearn.model_selection import GridSearchCV\n",
    "\n",
    "cols_eliminar = ['fecha', 'id', 'titulo', 'descripcion','direccion',\\\n",
    "                'lat', 'lng', 'posicion','provincia','ciudad','gimnasio','usosmultiples',\\\n",
    "                'escuelascercanas','centroscomercialescercanos']\n",
    "\n",
    "df_train, _ = preprocessing(False, cols_eliminar)\n",
    "df_train = df_train.astype({'provincia_ordinal':'int', 'ciudad_ordinal':'int'})\n",
    "\n",
    "X = np.array(df_train.drop(columns=['precio', 'log_precio']).values, 'float32')\n",
    "Y = np.array(df_train[['log_precio']].values, 'float32')\n",
    "\n",
    "X_train, X_test, Y_train, Y_test = train_test_split(X, Y, test_size=0.2, random_state=42)\n"
   ]
  },
  {
   "cell_type": "code",
   "execution_count": 8,
   "metadata": {},
   "outputs": [],
   "source": [
    "xgboost = XGBRegressor()\n",
    "\n",
    "search = GridSearchCV(xgboost, {'min_split_loss':[0,0.2,0.4], 'max_depth':[15,18,21,25]})"
   ]
  },
  {
   "cell_type": "code",
   "execution_count": null,
   "metadata": {},
   "outputs": [],
   "source": [
    "search.fit(X_train, Y_train)\n",
    "search.cv_results_"
   ]
  },
  {
   "cell_type": "code",
   "execution_count": null,
   "metadata": {},
   "outputs": [],
   "source": [
    "n_estimators = []\n",
    "for param in [i*10 for i in range(13,30)]:\n",
    "\tmodel = XGBRegressor(subsample=0.7,min_child_weight=3,\n",
    "\tcolsample_bytree=0.7,learning_rate=0.1,nthread=8,num_parallel_tree=10, n_estimators=param)\n",
    "\tmodel.fit(X_train, Y_train, eval_set=[(X_train, Y_train), (X_test, Y_test)],\n",
    "\teval_metric=['mae', 'rmse'], early_stopping_rounds=5)\n",
    "\tn_estimators.append((param, mean_average_error(model.predict(X_test), Y_test)))\n",
    "\n",
    "min_child_weight = []\n",
    "for param in [0.05,0.1,0.5,0.7,0.8,0.9,1,1.1,1.2]:\n",
    "\tmodel = XGBRegressor(n_estimators=150,max_depth=20,subsample=0.7,\n",
    "\tcolsample_bytree=0.7,learning_rate=0.1,nthread=8,num_parallel_tree=10, min_child_weight=param)\n",
    "\tmodel.fit(X_train, Y_train, eval_set=[(X_train, Y_train), (X_test, Y_test)],\n",
    "\teval_metric=['mae', 'rmse'], early_stopping_rounds=5)\n",
    "\tmin_child_weight.append((param, mean_average_error(model.predict(X_test), Y_test)))\n",
    "\n",
    "learning_rate = []\n",
    "for param in [i/100 for i in range(1,11)]+[0.005, 0.015]:\n",
    "\tmodel = XGBRegressor(n_estimators=150,max_depth=20,subsample=0.7,min_child_weight=3,\n",
    "\tcolsample_bytree=0.7, nthread=8,num_parallel_tree=10, learning_rate=param)\n",
    "\tmodel.fit(X_train, Y_train, eval_set=[(X_train, Y_train), (X_test, Y_test)],\n",
    "\teval_metric=['mae', 'rmse'], early_stopping_rounds=5)\n",
    "\tlearning_rate.append((param, mean_average_error(model.predict(X_test), Y_test)))\n",
    "\n",
    "subsample = []\n",
    "for param in [i/10 for i in range(3,10)]:\n",
    "\tmodel = XGBRegressor(n_estimators=150,max_depth=20,min_child_weight=3,\n",
    "\tcolsample_bytree=0.7,learning_rate=0.1,nthread=8,num_parallel_tree=10, subsample=param)\n",
    "\tmodel.fit(X_train, Y_train, eval_set=[(X_train, Y_train), (X_test, Y_test)],\n",
    "\teval_metric=['mae', 'rmse'], early_stopping_rounds=5)\n",
    "\tsubsample.append((param, mean_average_error(model.predict(X_test), Y_test)))\n",
    "\n",
    "reg_lambda = []\n",
    "for param in [i/10 for i in range(5)]:\n",
    "\tmodel = XGBRegressor(n_estimators=150,max_depth=20,subsample=0.7,min_child_weight=3,\n",
    "\tcolsample_bytree=0.7,learning_rate=0.1,nthread=8,num_parallel_tree=10, reg_lambda=param)\n",
    "\tmodel.fit(X_train, Y_train, eval_set=[(X_train, Y_train), (X_test, Y_test)],\n",
    "\teval_metric=['mae', 'rmse'], early_stopping_rounds=5)\n",
    "\treg_lambda.append((param, mean_average_error(model.predict(X_test), Y_test)))\n",
    "\n",
    "reg_alpha = []\n",
    "for param in [i/10 for i in range(5)]:\n",
    "\tmodel = XGBRegressor(n_estimators=150,max_depth=20,subsample=0.7,min_child_weight=3,\n",
    "\tcolsample_bytree=0.7,learning_rate=0.1,nthread=8,num_parallel_tree=10, reg_alpha=param)\n",
    "\tmodel.fit(X_train, Y_train, eval_set=[(X_train, Y_train), (X_test, Y_test)],\n",
    "\teval_metric=['mae', 'rmse'], early_stopping_rounds=5)\n",
    "\treg_alpha.append((param, mean_average_error(model.predict(X_test), Y_test)))\n",
    "\n",
    "colsample_bytree = []\n",
    "for param in [i/10 for i in range(3,10)]:\n",
    "\tmodel = XGBRegressor(n_estimators=150,max_depth=20,subsample=0.7,min_child_weight=3,\n",
    "\tlearning_rate=0.1,nthread=8,num_parallel_tree=10, colsample_bytree=param)\n",
    "\tmodel.fit(X_train, Y_train, eval_set=[(X_train, Y_train), (X_test, Y_test)],\n",
    "\teval_metric=['mae', 'rmse'], early_stopping_rounds=5)\n",
    "\tcolsample_bytree.append((param, mean_average_error(model.predict(X_test), Y_test)))\n",
    "\n",
    "grow_policy = []\n",
    "for param in ['depthwise', 'lossguide']:\n",
    "\tmodel = XGBRegressor(n_estimators=150,max_depth=20,subsample=0.7,min_child_weight=3,\n",
    "\tcolsample_bytree=0.7,learning_rate=0.1,nthread=8,num_parallel_tree=10, grow_policy=param)\n",
    "\tmodel.fit(X_train, Y_train, eval_set=[(X_train, Y_train), (X_test, Y_test)],\n",
    "\teval_metric=['mae', 'rmse'], early_stopping_rounds=5)\n",
    "\tgrow_policy.append((param, mean_average_error(model.predict(X_test), Y_test)))"
   ]
  }
 ],
 "metadata": {
  "kernelspec": {
   "display_name": "Python 3",
   "language": "python",
   "name": "python3"
  },
  "language_info": {
   "codemirror_mode": {
    "name": "ipython",
    "version": 3
   },
   "file_extension": ".py",
   "mimetype": "text/x-python",
   "name": "python",
   "nbconvert_exporter": "python",
   "pygments_lexer": "ipython3",
   "version": "3.6.9"
  }
 },
 "nbformat": 4,
 "nbformat_minor": 4
}
