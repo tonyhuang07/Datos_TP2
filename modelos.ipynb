{
 "cells": [
  {
   "cell_type": "code",
   "execution_count": 1,
   "metadata": {},
   "outputs": [],
   "source": [
    "import numpy as np\n",
    "import pandas as pd\n",
    "import warnings\n",
    "warnings.filterwarnings('ignore')\n",
    "from sklearn import preprocessing\n",
    "from sklearn.model_selection import train_test_split\n",
    "from sklearn.preprocessing import StandardScaler"
   ]
  },
  {
   "cell_type": "code",
   "execution_count": 2,
   "metadata": {},
   "outputs": [],
   "source": [
    "#import modelos\n",
    "from sklearn.linear_model import LinearRegression\n",
    "from sklearn.neighbors import KNeighborsRegressor\n",
    "from sklearn.svm import SVR\n",
    "from sklearn.linear_model import Lasso\n",
    "from sklearn.linear_model import Ridge\n",
    "from sklearn.neural_network import MLPRegressor\n",
    "from sklearn.tree import DecisionTreeRegressor\n",
    "from sklearn.tree import ExtraTreeRegressor\n",
    "from xgboost import XGBRegressor\n",
    "from sklearn.ensemble import RandomForestRegressor\n",
    "from sklearn.ensemble import AdaBoostRegressor\n",
    "from sklearn.ensemble import GradientBoostingRegressor\n",
    "from sklearn.ensemble import BaggingRegressor"
   ]
  },
  {
   "cell_type": "code",
   "execution_count": 3,
   "metadata": {},
   "outputs": [],
   "source": [
    "#filtrando los datos\n",
    "df_original = pd.read_csv(\"train.csv\", dtype={\n",
    "    'tipodepropiedad':'category', 'ciudad':'category',\\\n",
    "    'provincia':'category'}, parse_dates=[16])\n",
    "\n",
    "df_original['fecha'] = pd.to_datetime(df_original['fecha'])\n",
    "\n",
    "df = df_original.drop(columns=['fecha', 'id', 'titulo', 'descripcion', 'direccion', 'lat', 'lng', 'precio']).copy()\n",
    "y = df_original['precio'].values\n",
    "\n",
    "df['mes'] = df_original['fecha'].dt.month\n",
    "df['anio'] = df_original['fecha'].dt.year\n",
    "columnas = ['metroscubiertos', 'metrostotales', 'habitaciones', 'banos', 'idzona', 'garages', 'antiguedad']\n",
    "df[columnas] = df[columnas].fillna(value=0)\n",
    "\n",
    "df['cant_extras'] = sum([df['gimnasio'],df['usosmultiples'],df['piscina'],\n",
    "                        df['escuelascercanas'],df['centroscomercialescercanos']])\n",
    "\n",
    "df['tipodepropiedad'] = df['tipodepropiedad'].cat.codes\n",
    "df['ciudad'] = df['ciudad'].cat.codes\n",
    "df['provincia'] = df['provincia'].cat.codes\n",
    "\n",
    "X = df.copy().values"
   ]
  },
  {
   "cell_type": "code",
   "execution_count": 4,
   "metadata": {},
   "outputs": [],
   "source": [
    "#splitear train y test\n",
    "X_train, X_test, y_train, y_test = train_test_split(X, y, test_size=0.25, random_state=42)\n"
   ]
  },
  {
   "cell_type": "code",
   "execution_count": 5,
   "metadata": {},
   "outputs": [],
   "source": [
    "modelos=[LinearRegression(),KNeighborsRegressor(),Ridge(),Lasso(),MLPRegressor(alpha=20),DecisionTreeRegressor(),ExtraTreeRegressor(),XGBRegressor(),RandomForestRegressor(),AdaBoostRegressor(),GradientBoostingRegressor(),BaggingRegressor()]\n",
    "modelos_nombre=['LinearRegression','KNNRegressor','Ridge','Lasso','MLPRegressor','DecisionTree','ExtraTree','XGBoost','RandomForest','AdaBoost','GradientBoost','Bagging']\n",
    "score_=[]"
   ]
  },
  {
   "cell_type": "code",
   "execution_count": 6,
   "metadata": {},
   "outputs": [
    {
     "name": "stdout",
     "output_type": "stream",
     "text": [
      "empieza entrenar：LinearRegression\n",
      "LinearRegression score:0.361233938409\n",
      "empieza entrenar：KNNRegressor\n",
      "KNNRegressor score:0.692980959585\n",
      "empieza entrenar：Ridge\n",
      "Ridge score:0.36123393096\n",
      "empieza entrenar：Lasso\n",
      "Lasso score:0.361233914801\n",
      "empieza entrenar：MLPRegressor\n",
      "MLPRegressor score:0.369119641676\n",
      "empieza entrenar：DecisionTree\n",
      "DecisionTree score:0.556978677594\n",
      "empieza entrenar：ExtraTree\n",
      "ExtraTree score:0.499048875175\n",
      "empieza entrenar：XGBoost\n",
      "[12:27:17] WARNING: /workspace/src/objective/regression_obj.cu:152: reg:linear is now deprecated in favor of reg:squarederror.\n",
      "XGBoost score:0.681062788231\n",
      "empieza entrenar：RandomForest\n",
      "RandomForest score:0.76297083085\n",
      "empieza entrenar：AdaBoost\n",
      "AdaBoost score:0.00649644415622\n",
      "empieza entrenar：GradientBoost\n",
      "GradientBoost score:0.679205209062\n",
      "empieza entrenar：Bagging\n",
      "Bagging score:0.76228520206\n"
     ]
    }
   ],
   "source": [
    "#ejectucar todos los modelos\n",
    "for nombre,modelo in zip(modelos_nombre,modelos):\n",
    "    print('empieza entrenar：'+ nombre)\n",
    "    modelo= modelo   \n",
    "    modelo.fit(X_train,y_train)\n",
    "    score=modelo.score(X_test,y_test)\n",
    "    print(nombre +' score:'+str(score))"
   ]
  },
  {
   "cell_type": "code",
   "execution_count": 7,
   "metadata": {},
   "outputs": [],
   "source": [
    "#aplico logaritmo\n",
    "y_log = np.log(y)\n",
    "X_train, X_test, y_train_log, y_test_log = train_test_split(X, y_log, test_size=0.25, random_state=42)"
   ]
  },
  {
   "cell_type": "code",
   "execution_count": 8,
   "metadata": {
    "scrolled": false
   },
   "outputs": [
    {
     "name": "stdout",
     "output_type": "stream",
     "text": [
      "empieza entrenar：LinearRegression\n",
      "LinearRegression score:0.468568179475\n",
      "empieza entrenar：KNNRegressor\n",
      "KNNRegressor score:0.768533585155\n",
      "empieza entrenar：Ridge\n",
      "Ridge score:0.468568149133\n",
      "empieza entrenar：Lasso\n",
      "Lasso score:0.378445924746\n",
      "empieza entrenar：MLPRegressor\n",
      "MLPRegressor score:-85.2502986737\n",
      "empieza entrenar：DecisionTree\n",
      "DecisionTree score:0.67558160356\n",
      "empieza entrenar：ExtraTree\n",
      "ExtraTree score:0.639069948482\n",
      "empieza entrenar：XGBoost\n",
      "[12:28:38] WARNING: /workspace/src/objective/regression_obj.cu:152: reg:linear is now deprecated in favor of reg:squarederror.\n",
      "XGBoost score:0.770385120383\n",
      "empieza entrenar：RandomForest\n",
      "RandomForest score:0.821901543689\n",
      "empieza entrenar：AdaBoost\n",
      "AdaBoost score:0.575903452311\n",
      "empieza entrenar：GradientBoost\n",
      "GradientBoost score:0.769624885582\n",
      "empieza entrenar：Bagging\n",
      "Bagging score:0.824114238237\n"
     ]
    }
   ],
   "source": [
    "for nombre,modelo in zip(modelos_nombre,modelos):\n",
    "    print('empieza entrenar：'+ nombre)\n",
    "    modelo= modelo   \n",
    "    modelo.fit(X_train,y_train_log)\n",
    "    score=modelo.score(X_test,y_test_log)\n",
    "    print(nombre +' score:'+str(score))"
   ]
  },
  {
   "cell_type": "code",
   "execution_count": 9,
   "metadata": {},
   "outputs": [],
   "source": [
    "#estanderizar datos\n",
    "X_estandar=StandardScaler().fit_transform(X)\n",
    "y=np.array(y).reshape(-1,1)\n",
    "y_estandar=StandardScaler().fit_transform(y)\n",
    "y_estandar=y_estandar.ravel()\n",
    "X_train_estandar, X_test_estandar, y_train_estandar, y_test_estandar = train_test_split(X_estandar, y_estandar, test_size=0.25, random_state=42)\n"
   ]
  },
  {
   "cell_type": "code",
   "execution_count": 10,
   "metadata": {
    "scrolled": false
   },
   "outputs": [
    {
     "name": "stdout",
     "output_type": "stream",
     "text": [
      "empieza entrenar：LinearRegression\n",
      "LinearRegression score:0.361236244913\n",
      "empieza entrenar：KNNRegressor\n",
      "KNNRegressor score:0.601734313572\n",
      "empieza entrenar：Ridge\n",
      "Ridge score:0.361233919499\n",
      "empieza entrenar：Lasso\n",
      "Lasso score:-1.79817439336e-05\n",
      "empieza entrenar：MLPRegressor\n",
      "MLPRegressor score:0.411969096194\n",
      "empieza entrenar：DecisionTree\n",
      "DecisionTree score:0.557735641828\n",
      "empieza entrenar：ExtraTree\n",
      "ExtraTree score:0.506469540993\n",
      "empieza entrenar：XGBoost\n",
      "[12:34:11] WARNING: /workspace/src/objective/regression_obj.cu:152: reg:linear is now deprecated in favor of reg:squarederror.\n",
      "XGBoost score:0.682303051185\n",
      "empieza entrenar：RandomForest\n",
      "RandomForest score:0.759024363128\n",
      "empieza entrenar：AdaBoost\n",
      "AdaBoost score:0.117793049712\n",
      "empieza entrenar：GradientBoost\n",
      "GradientBoost score:0.682424385537\n",
      "empieza entrenar：Bagging\n",
      "Bagging score:0.761603856492\n"
     ]
    }
   ],
   "source": [
    "for nombre,modelo in zip(modelos_nombre,modelos):\n",
    "    print('empieza entrenar：'+ nombre)\n",
    "    modelo= modelo   \n",
    "    modelo.fit(X_train_estandar,y_train_estandar)\n",
    "    score=modelo.score(X_test_estandar,y_test_estandar)\n",
    "    print(nombre +' score:'+str(score))"
   ]
  },
  {
   "cell_type": "code",
   "execution_count": 11,
   "metadata": {},
   "outputs": [
    {
     "data": {
      "text/html": [
       "<div>\n",
       "<style scoped>\n",
       "    .dataframe tbody tr th:only-of-type {\n",
       "        vertical-align: middle;\n",
       "    }\n",
       "\n",
       "    .dataframe tbody tr th {\n",
       "        vertical-align: top;\n",
       "    }\n",
       "\n",
       "    .dataframe thead th {\n",
       "        text-align: right;\n",
       "    }\n",
       "</style>\n",
       "<table border=\"1\" class=\"dataframe\">\n",
       "  <thead>\n",
       "    <tr style=\"text-align: right;\">\n",
       "      <th></th>\n",
       "      <th>modelo</th>\n",
       "      <th>sinmodificar</th>\n",
       "      <th>logaritmo</th>\n",
       "      <th>estandar</th>\n",
       "      <th>mejor_performance</th>\n",
       "    </tr>\n",
       "  </thead>\n",
       "  <tbody>\n",
       "    <tr>\n",
       "      <th>0</th>\n",
       "      <td>LinearRegression</td>\n",
       "      <td>0.361234</td>\n",
       "      <td>0.468568</td>\n",
       "      <td>0.361236</td>\n",
       "      <td>logaritmo</td>\n",
       "    </tr>\n",
       "    <tr>\n",
       "      <th>1</th>\n",
       "      <td>KNNRegressor</td>\n",
       "      <td>0.692981</td>\n",
       "      <td>0.768534</td>\n",
       "      <td>0.601734</td>\n",
       "      <td>logaritmo</td>\n",
       "    </tr>\n",
       "    <tr>\n",
       "      <th>2</th>\n",
       "      <td>Ridge</td>\n",
       "      <td>0.361234</td>\n",
       "      <td>0.468568</td>\n",
       "      <td>0.361234</td>\n",
       "      <td>logaritmo</td>\n",
       "    </tr>\n",
       "    <tr>\n",
       "      <th>3</th>\n",
       "      <td>Lasso</td>\n",
       "      <td>0.361234</td>\n",
       "      <td>0.378446</td>\n",
       "      <td>-0.000018</td>\n",
       "      <td>logaritmo</td>\n",
       "    </tr>\n",
       "    <tr>\n",
       "      <th>4</th>\n",
       "      <td>MLPRegressor</td>\n",
       "      <td>0.387305</td>\n",
       "      <td>-281.162411</td>\n",
       "      <td>0.411350</td>\n",
       "      <td>estandar</td>\n",
       "    </tr>\n",
       "    <tr>\n",
       "      <th>5</th>\n",
       "      <td>DecisionTree</td>\n",
       "      <td>0.560428</td>\n",
       "      <td>0.673522</td>\n",
       "      <td>0.557428</td>\n",
       "      <td>logaritmo</td>\n",
       "    </tr>\n",
       "    <tr>\n",
       "      <th>6</th>\n",
       "      <td>ExtraTree</td>\n",
       "      <td>0.487954</td>\n",
       "      <td>0.635222</td>\n",
       "      <td>0.479507</td>\n",
       "      <td>logaritmo</td>\n",
       "    </tr>\n",
       "    <tr>\n",
       "      <th>7</th>\n",
       "      <td>XGBoost</td>\n",
       "      <td>0.681063</td>\n",
       "      <td>0.770385</td>\n",
       "      <td>0.682303</td>\n",
       "      <td>logaritmo</td>\n",
       "    </tr>\n",
       "    <tr>\n",
       "      <th>8</th>\n",
       "      <td>RandomForest</td>\n",
       "      <td>0.759886</td>\n",
       "      <td>0.823350</td>\n",
       "      <td>0.759021</td>\n",
       "      <td>logaritmo</td>\n",
       "    </tr>\n",
       "    <tr>\n",
       "      <th>9</th>\n",
       "      <td>AdaBoost</td>\n",
       "      <td>0.189561</td>\n",
       "      <td>0.557912</td>\n",
       "      <td>-0.053853</td>\n",
       "      <td>logaritmo</td>\n",
       "    </tr>\n",
       "    <tr>\n",
       "      <th>10</th>\n",
       "      <td>GradientBoost</td>\n",
       "      <td>0.679205</td>\n",
       "      <td>0.769625</td>\n",
       "      <td>0.682424</td>\n",
       "      <td>logaritmo</td>\n",
       "    </tr>\n",
       "    <tr>\n",
       "      <th>11</th>\n",
       "      <td>Bagging</td>\n",
       "      <td>0.761595</td>\n",
       "      <td>0.823605</td>\n",
       "      <td>0.762132</td>\n",
       "      <td>logaritmo</td>\n",
       "    </tr>\n",
       "  </tbody>\n",
       "</table>\n",
       "</div>"
      ],
      "text/plain": [
       "              modelo  sinmodificar   logaritmo  estandar mejor_performance\n",
       "0   LinearRegression      0.361234    0.468568  0.361236         logaritmo\n",
       "1       KNNRegressor      0.692981    0.768534  0.601734         logaritmo\n",
       "2              Ridge      0.361234    0.468568  0.361234         logaritmo\n",
       "3              Lasso      0.361234    0.378446 -0.000018         logaritmo\n",
       "4       MLPRegressor      0.387305 -281.162411  0.411350          estandar\n",
       "5       DecisionTree      0.560428    0.673522  0.557428         logaritmo\n",
       "6          ExtraTree      0.487954    0.635222  0.479507         logaritmo\n",
       "7            XGBoost      0.681063    0.770385  0.682303         logaritmo\n",
       "8       RandomForest      0.759886    0.823350  0.759021         logaritmo\n",
       "9           AdaBoost      0.189561    0.557912 -0.053853         logaritmo\n",
       "10     GradientBoost      0.679205    0.769625  0.682424         logaritmo\n",
       "11           Bagging      0.761595    0.823605  0.762132         logaritmo"
      ]
     },
     "execution_count": 11,
     "metadata": {},
     "output_type": "execute_result"
    }
   ],
   "source": [
    "df_modelos_resultados = pd.read_csv(\"modelos_resultados.csv\")\n",
    "df_modelos_resultados"
   ]
  },
  {
   "cell_type": "code",
   "execution_count": 12,
   "metadata": {},
   "outputs": [
    {
     "data": {
      "text/plain": [
       "array([ 0.09742557,  0.05566406,  0.09251227,  0.03226349,  0.03130875,\n",
       "        0.01392139,  0.07786624,  0.38906046,  0.07106923,  0.06258694,\n",
       "        0.00305602,  0.0014424 ,  0.0028512 ,  0.00273734,  0.00298921,\n",
       "        0.02509188,  0.03078257,  0.00737097])"
      ]
     },
     "execution_count": 12,
     "metadata": {},
     "output_type": "execute_result"
    }
   ],
   "source": [
    "random_forest = RandomForestRegressor(n_estimators=200, max_depth=1000, n_jobs=-1)\n",
    "random_forest.fit(X_train, y_train)\n",
    "random_forest.feature_importances_"
   ]
  },
  {
   "cell_type": "code",
   "execution_count": 13,
   "metadata": {},
   "outputs": [
    {
     "data": {
      "text/plain": [
       "array([ 0.08095614,  0.03582951,  0.0889979 ,  0.02364571,  0.03014272,\n",
       "        0.01302167,  0.12138901,  0.45074236,  0.05810849,  0.04610976,\n",
       "        0.0017444 ,  0.00066181,  0.00201997,  0.00201129,  0.00211153,\n",
       "        0.01845722,  0.01914316,  0.00490735])"
      ]
     },
     "execution_count": 13,
     "metadata": {},
     "output_type": "execute_result"
    }
   ],
   "source": [
    "random_forest = RandomForestRegressor(n_estimators=200, max_depth=1000, n_jobs=-1)\n",
    "random_forest.fit(X_train, y_train_log)\n",
    "random_forest.feature_importances_"
   ]
  },
  {
   "cell_type": "code",
   "execution_count": 14,
   "metadata": {},
   "outputs": [
    {
     "data": {
      "text/plain": [
       "array([ 3119472.42636328,  2424894.65408515,  6741394.39985208, ...,\n",
       "        1448785.17076876,  2120633.90576078,  1307610.89393898])"
      ]
     },
     "execution_count": 14,
     "metadata": {},
     "output_type": "execute_result"
    }
   ],
   "source": [
    "y_pred=random_forest.predict(X_test)\n",
    "y_pred = np.exp(y_pred)\n",
    "y_pred"
   ]
  },
  {
   "cell_type": "code",
   "execution_count": 15,
   "metadata": {},
   "outputs": [],
   "source": [
    "df_test = pd.read_csv(\"test.csv\", dtype={\n",
    "    'tipodepropiedad':'category', 'ciudad':'category',\\\n",
    "    'provincia':'category'}, parse_dates=[16])\n",
    "\n",
    "df_test['fecha'] = pd.to_datetime(df_original['fecha'])\n",
    "Id = df_test['id']\n",
    "\n",
    "df = df_test.drop(columns=['fecha', 'id', 'titulo', 'descripcion', 'direccion', 'lat', 'lng']).copy()\n",
    "\n",
    "df['mes'] = df_test['fecha'].dt.month\n",
    "df['anio'] = df_test['fecha'].dt.year\n",
    "columnas = ['metroscubiertos', 'metrostotales', 'habitaciones', 'banos', 'idzona', 'garages', 'antiguedad']\n",
    "df[columnas] = df[columnas].fillna(value=0)\n",
    "\n",
    "df['cant_extras'] = sum([df['gimnasio'],df['usosmultiples'],df['piscina'],\n",
    "                        df['escuelascercanas'],df['centroscomercialescercanos']])\n",
    "\n",
    "df['tipodepropiedad'] = df['tipodepropiedad'].cat.codes\n",
    "df['ciudad'] = df['ciudad'].cat.codes\n",
    "df['provincia'] = df['provincia'].cat.codes\n",
    "\n",
    "id_test = df.copy().values"
   ]
  },
  {
   "cell_type": "code",
   "execution_count": 16,
   "metadata": {},
   "outputs": [],
   "source": [
    "valor_pred=random_forest.predict(id_test)\n",
    "df_resultado = pd.DataFrame()\n",
    "df_resultado['Id'] = Id\n",
    "df_resultado['Valor'] = np.exp(valor_pred)\n",
    "df_resultado.to_csv('resultado_version1.csv',index=False)"
   ]
  }
 ],
 "metadata": {
  "kernelspec": {
   "display_name": "Python 3",
   "language": "python",
   "name": "python3"
  },
  "language_info": {
   "codemirror_mode": {
    "name": "ipython",
    "version": 3
   },
   "file_extension": ".py",
   "mimetype": "text/x-python",
   "name": "python",
   "nbconvert_exporter": "python",
   "pygments_lexer": "ipython3",
   "version": "3.6.8"
  }
 },
 "nbformat": 4,
 "nbformat_minor": 2
}
